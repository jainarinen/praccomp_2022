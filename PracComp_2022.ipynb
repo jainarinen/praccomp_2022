{
  "nbformat": 4,
  "nbformat_minor": 0,
  "metadata": {
    "colab": {
      "provenance": [],
      "authorship_tag": "ABX9TyPFOm1NR07HCbskYVnWB2aZ",
      "include_colab_link": true
    },
    "kernelspec": {
      "name": "python3",
      "display_name": "Python 3"
    },
    "language_info": {
      "name": "python"
    }
  },
  "cells": [
    {
      "cell_type": "markdown",
      "metadata": {
        "id": "view-in-github",
        "colab_type": "text"
      },
      "source": [
        "<a href=\"https://colab.research.google.com/github/jainarinen/praccomp_2022/blob/master/PracComp_2022.ipynb\" target=\"_parent\"><img src=\"https://colab.research.google.com/assets/colab-badge.svg\" alt=\"Open In Colab\"/></a>"
      ]
    },
    {
      "cell_type": "code",
      "execution_count": null,
      "metadata": {
        "id": "JiRWCAogq_G3",
        "colab": {
          "base_uri": "https://localhost:8080/"
        },
        "outputId": "8e5eb681-eea4-40d9-9fb2-c3f42221fb15"
      },
      "outputs": [
        {
          "output_type": "stream",
          "name": "stdout",
          "text": [
            "1\n"
          ]
        }
      ],
      "source": [
        "x = 0\n",
        "while x <= 0:\n",
        "    x += 1\n",
        "    print(x)"
      ]
    },
    {
      "cell_type": "code",
      "source": [
        "import math\n",
        "\n",
        "print(math.pi)\n",
        "\n",
        "print('pi_is', m.pi)\n",
        "print('cosine of pi is', m.cos)"
      ],
      "metadata": {
        "colab": {
          "base_uri": "https://localhost:8080/",
          "height": 218
        },
        "id": "4YCw8q_CrLOW",
        "outputId": "3c1b57f1-91a0-4979-b14f-fdc0fa310960"
      },
      "execution_count": null,
      "outputs": [
        {
          "output_type": "stream",
          "name": "stdout",
          "text": [
            "3.141592653589793\n"
          ]
        },
        {
          "output_type": "error",
          "ename": "NameError",
          "evalue": "ignored",
          "traceback": [
            "\u001b[0;31m---------------------------------------------------------------------------\u001b[0m",
            "\u001b[0;31mNameError\u001b[0m                                 Traceback (most recent call last)",
            "\u001b[0;32m<ipython-input-5-cc3d09bf2a04>\u001b[0m in \u001b[0;36m<module>\u001b[0;34m\u001b[0m\n\u001b[1;32m      3\u001b[0m \u001b[0mprint\u001b[0m\u001b[0;34m(\u001b[0m\u001b[0mmath\u001b[0m\u001b[0;34m.\u001b[0m\u001b[0mpi\u001b[0m\u001b[0;34m)\u001b[0m\u001b[0;34m\u001b[0m\u001b[0;34m\u001b[0m\u001b[0m\n\u001b[1;32m      4\u001b[0m \u001b[0;34m\u001b[0m\u001b[0m\n\u001b[0;32m----> 5\u001b[0;31m \u001b[0mprint\u001b[0m\u001b[0;34m(\u001b[0m\u001b[0;34m'pi_is'\u001b[0m\u001b[0;34m,\u001b[0m \u001b[0mm\u001b[0m\u001b[0;34m.\u001b[0m\u001b[0mpi\u001b[0m\u001b[0;34m)\u001b[0m\u001b[0;34m\u001b[0m\u001b[0;34m\u001b[0m\u001b[0m\n\u001b[0m",
            "\u001b[0;31mNameError\u001b[0m: name 'm' is not defined"
          ]
        }
      ]
    },
    {
      "cell_type": "markdown",
      "source": [
        "##Reading Tables as Data\n"
      ],
      "metadata": {
        "id": "IBhY_D3qsIev"
      }
    },
    {
      "cell_type": "code",
      "source": [
        "import pandas as pd\n",
        "help(pd)\n",
        "\n"
      ],
      "metadata": {
        "colab": {
          "base_uri": "https://localhost:8080/"
        },
        "id": "UlUquOnLsUKs",
        "outputId": "61d1d5c3-c714-4fa5-b05e-1e49ba11f442"
      },
      "execution_count": null,
      "outputs": [
        {
          "output_type": "stream",
          "name": "stdout",
          "text": [
            "Help on package pandas:\n",
            "\n",
            "NAME\n",
            "    pandas\n",
            "\n",
            "DESCRIPTION\n",
            "    pandas - a powerful data analysis and manipulation library for Python\n",
            "    =====================================================================\n",
            "    \n",
            "    **pandas** is a Python package providing fast, flexible, and expressive data\n",
            "    structures designed to make working with \"relational\" or \"labeled\" data both\n",
            "    easy and intuitive. It aims to be the fundamental high-level building block for\n",
            "    doing practical, **real world** data analysis in Python. Additionally, it has\n",
            "    the broader goal of becoming **the most powerful and flexible open source data\n",
            "    analysis / manipulation tool available in any language**. It is already well on\n",
            "    its way toward this goal.\n",
            "    \n",
            "    Main Features\n",
            "    -------------\n",
            "    Here are just a few of the things that pandas does well:\n",
            "    \n",
            "      - Easy handling of missing data in floating point as well as non-floating\n",
            "        point data.\n",
            "      - Size mutability: columns can be inserted and deleted from DataFrame and\n",
            "        higher dimensional objects\n",
            "      - Automatic and explicit data alignment: objects can be explicitly aligned\n",
            "        to a set of labels, or the user can simply ignore the labels and let\n",
            "        `Series`, `DataFrame`, etc. automatically align the data for you in\n",
            "        computations.\n",
            "      - Powerful, flexible group by functionality to perform split-apply-combine\n",
            "        operations on data sets, for both aggregating and transforming data.\n",
            "      - Make it easy to convert ragged, differently-indexed data in other Python\n",
            "        and NumPy data structures into DataFrame objects.\n",
            "      - Intelligent label-based slicing, fancy indexing, and subsetting of large\n",
            "        data sets.\n",
            "      - Intuitive merging and joining data sets.\n",
            "      - Flexible reshaping and pivoting of data sets.\n",
            "      - Hierarchical labeling of axes (possible to have multiple labels per tick).\n",
            "      - Robust IO tools for loading data from flat files (CSV and delimited),\n",
            "        Excel files, databases, and saving/loading data from the ultrafast HDF5\n",
            "        format.\n",
            "      - Time series-specific functionality: date range generation and frequency\n",
            "        conversion, moving window statistics, date shifting and lagging.\n",
            "\n",
            "PACKAGE CONTENTS\n",
            "    _config (package)\n",
            "    _libs (package)\n",
            "    _testing (package)\n",
            "    _typing\n",
            "    _version\n",
            "    api (package)\n",
            "    arrays (package)\n",
            "    compat (package)\n",
            "    conftest\n",
            "    core (package)\n",
            "    errors (package)\n",
            "    io (package)\n",
            "    plotting (package)\n",
            "    testing\n",
            "    tests (package)\n",
            "    tseries (package)\n",
            "    util (package)\n",
            "\n",
            "SUBMODULES\n",
            "    _hashtable\n",
            "    _lib\n",
            "    _tslib\n",
            "    offsets\n",
            "\n",
            "FUNCTIONS\n",
            "    __getattr__(name)\n",
            "        # GH 27101\n",
            "\n",
            "DATA\n",
            "    IndexSlice = <pandas.core.indexing._IndexSlice object>\n",
            "    NA = <NA>\n",
            "    NaT = NaT\n",
            "    __docformat__ = 'restructuredtext'\n",
            "    __git_version__ = '66e3805b8cabe977f40c05259cc3fcf7ead5687d'\n",
            "    describe_option = <pandas._config.config.CallableDynamicDoc object>\n",
            "    get_option = <pandas._config.config.CallableDynamicDoc object>\n",
            "    options = <pandas._config.config.DictWrapper object>\n",
            "    reset_option = <pandas._config.config.CallableDynamicDoc object>\n",
            "    set_option = <pandas._config.config.CallableDynamicDoc object>\n",
            "\n",
            "VERSION\n",
            "    1.3.5\n",
            "\n",
            "FILE\n",
            "    /usr/local/lib/python3.7/dist-packages/pandas/__init__.py\n",
            "\n",
            "\n"
          ]
        }
      ]
    },
    {
      "cell_type": "code",
      "source": [
        "data = pd.read_csv('sample_data/california_housing_test.csv')\n",
        "print(data)\n"
      ],
      "metadata": {
        "colab": {
          "base_uri": "https://localhost:8080/"
        },
        "id": "rHnt_te0sxsW",
        "outputId": "ea60ecf3-7714-40e7-d442-50c1793e062c"
      },
      "execution_count": null,
      "outputs": [
        {
          "output_type": "stream",
          "name": "stdout",
          "text": [
            "      longitude  latitude  housing_median_age  total_rooms  total_bedrooms  \\\n",
            "0       -122.05     37.37                27.0       3885.0           661.0   \n",
            "1       -118.30     34.26                43.0       1510.0           310.0   \n",
            "2       -117.81     33.78                27.0       3589.0           507.0   \n",
            "3       -118.36     33.82                28.0         67.0            15.0   \n",
            "4       -119.67     36.33                19.0       1241.0           244.0   \n",
            "...         ...       ...                 ...          ...             ...   \n",
            "2995    -119.86     34.42                23.0       1450.0           642.0   \n",
            "2996    -118.14     34.06                27.0       5257.0          1082.0   \n",
            "2997    -119.70     36.30                10.0        956.0           201.0   \n",
            "2998    -117.12     34.10                40.0         96.0            14.0   \n",
            "2999    -119.63     34.42                42.0       1765.0           263.0   \n",
            "\n",
            "      population  households  median_income  median_house_value  \n",
            "0         1537.0       606.0         6.6085            344700.0  \n",
            "1          809.0       277.0         3.5990            176500.0  \n",
            "2         1484.0       495.0         5.7934            270500.0  \n",
            "3           49.0        11.0         6.1359            330000.0  \n",
            "4          850.0       237.0         2.9375             81700.0  \n",
            "...          ...         ...            ...                 ...  \n",
            "2995      1258.0       607.0         1.1790            225000.0  \n",
            "2996      3496.0      1036.0         3.3906            237200.0  \n",
            "2997       693.0       220.0         2.2895             62000.0  \n",
            "2998        46.0        14.0         3.2708            162500.0  \n",
            "2999       753.0       260.0         8.5608            500001.0  \n",
            "\n",
            "[3000 rows x 9 columns]\n"
          ]
        }
      ]
    },
    {
      "cell_type": "code",
      "source": [
        "data = pd.read_csv('sample_data/california_housing_test.csv', index_col='median_income')\n",
        "print(data)"
      ],
      "metadata": {
        "colab": {
          "base_uri": "https://localhost:8080/"
        },
        "id": "DQCWi6-ItFza",
        "outputId": "14c0f0f1-0b24-44b9-e07f-e87e43c22323"
      },
      "execution_count": null,
      "outputs": [
        {
          "output_type": "stream",
          "name": "stdout",
          "text": [
            "               longitude  latitude  housing_median_age  total_rooms  \\\n",
            "median_income                                                         \n",
            "6.6085           -122.05     37.37                27.0       3885.0   \n",
            "3.5990           -118.30     34.26                43.0       1510.0   \n",
            "5.7934           -117.81     33.78                27.0       3589.0   \n",
            "6.1359           -118.36     33.82                28.0         67.0   \n",
            "2.9375           -119.67     36.33                19.0       1241.0   \n",
            "...                  ...       ...                 ...          ...   \n",
            "1.1790           -119.86     34.42                23.0       1450.0   \n",
            "3.3906           -118.14     34.06                27.0       5257.0   \n",
            "2.2895           -119.70     36.30                10.0        956.0   \n",
            "3.2708           -117.12     34.10                40.0         96.0   \n",
            "8.5608           -119.63     34.42                42.0       1765.0   \n",
            "\n",
            "               total_bedrooms  population  households  median_house_value  \n",
            "median_income                                                              \n",
            "6.6085                  661.0      1537.0       606.0            344700.0  \n",
            "3.5990                  310.0       809.0       277.0            176500.0  \n",
            "5.7934                  507.0      1484.0       495.0            270500.0  \n",
            "6.1359                   15.0        49.0        11.0            330000.0  \n",
            "2.9375                  244.0       850.0       237.0             81700.0  \n",
            "...                       ...         ...         ...                 ...  \n",
            "1.1790                  642.0      1258.0       607.0            225000.0  \n",
            "3.3906                 1082.0      3496.0      1036.0            237200.0  \n",
            "2.2895                  201.0       693.0       220.0             62000.0  \n",
            "3.2708                   14.0        46.0        14.0            162500.0  \n",
            "8.5608                  263.0       753.0       260.0            500001.0  \n",
            "\n",
            "[3000 rows x 8 columns]\n"
          ]
        }
      ]
    },
    {
      "cell_type": "code",
      "source": [
        "type(data)"
      ],
      "metadata": {
        "colab": {
          "base_uri": "https://localhost:8080/"
        },
        "id": "bW1VVzDztkNA",
        "outputId": "37af4f76-1073-4485-df50-81d48f1549ad"
      },
      "execution_count": null,
      "outputs": [
        {
          "output_type": "execute_result",
          "data": {
            "text/plain": [
              "pandas.core.frame.DataFrame"
            ]
          },
          "metadata": {},
          "execution_count": 13
        }
      ]
    },
    {
      "cell_type": "code",
      "source": [
        "data.info()"
      ],
      "metadata": {
        "colab": {
          "base_uri": "https://localhost:8080/"
        },
        "id": "NC3IKlv4tnL6",
        "outputId": "92b6dd72-7dd5-4ea8-e704-59ef8a48d76e"
      },
      "execution_count": null,
      "outputs": [
        {
          "output_type": "stream",
          "name": "stdout",
          "text": [
            "<class 'pandas.core.frame.DataFrame'>\n",
            "Float64Index: 3000 entries, 6.6085 to 8.5608\n",
            "Data columns (total 8 columns):\n",
            " #   Column              Non-Null Count  Dtype  \n",
            "---  ------              --------------  -----  \n",
            " 0   longitude           3000 non-null   float64\n",
            " 1   latitude            3000 non-null   float64\n",
            " 2   housing_median_age  3000 non-null   float64\n",
            " 3   total_rooms         3000 non-null   float64\n",
            " 4   total_bedrooms      3000 non-null   float64\n",
            " 5   population          3000 non-null   float64\n",
            " 6   households          3000 non-null   float64\n",
            " 7   median_house_value  3000 non-null   float64\n",
            "dtypes: float64(8)\n",
            "memory usage: 210.9 KB\n"
          ]
        }
      ]
    },
    {
      "cell_type": "code",
      "source": [
        "print(data.columns)"
      ],
      "metadata": {
        "colab": {
          "base_uri": "https://localhost:8080/"
        },
        "id": "J_gfnCbAt_Yk",
        "outputId": "2a7cd078-8731-4b84-d506-ac01cb4ea16c"
      },
      "execution_count": null,
      "outputs": [
        {
          "output_type": "stream",
          "name": "stdout",
          "text": [
            "Index(['longitude', 'latitude', 'housing_median_age', 'total_rooms',\n",
            "       'total_bedrooms', 'population', 'households', 'median_house_value'],\n",
            "      dtype='object')\n"
          ]
        }
      ]
    },
    {
      "cell_type": "code",
      "source": [
        "print(data.T)"
      ],
      "metadata": {
        "colab": {
          "base_uri": "https://localhost:8080/"
        },
        "id": "feolTTEguLJ3",
        "outputId": "5e995046-956a-44dc-ba2b-40c5506364f0"
      },
      "execution_count": null,
      "outputs": [
        {
          "output_type": "stream",
          "name": "stdout",
          "text": [
            "median_income          6.6085     3.5990     5.7934     6.1359    2.9375  \\\n",
            "longitude             -122.05    -118.30    -117.81    -118.36   -119.67   \n",
            "latitude                37.37      34.26      33.78      33.82     36.33   \n",
            "housing_median_age      27.00      43.00      27.00      28.00     19.00   \n",
            "total_rooms           3885.00    1510.00    3589.00      67.00   1241.00   \n",
            "total_bedrooms         661.00     310.00     507.00      15.00    244.00   \n",
            "population            1537.00     809.00    1484.00      49.00    850.00   \n",
            "households             606.00     277.00     495.00      11.00    237.00   \n",
            "median_house_value  344700.00  176500.00  270500.00  330000.00  81700.00   \n",
            "\n",
            "median_income         1.6635    1.6641     3.2250     3.6696     2.3333  ...  \\\n",
            "longitude            -119.56   -121.43    -120.65    -122.84    -118.02  ...   \n",
            "latitude               36.51     38.63      35.48      38.40      34.08  ...   \n",
            "housing_median_age     37.00     43.00      19.00      15.00      31.00  ...   \n",
            "total_rooms          1018.00   1009.00    2310.00    3080.00    2402.00  ...   \n",
            "total_bedrooms        213.00    225.00     471.00     617.00     632.00  ...   \n",
            "population            663.00    604.00    1341.00    1446.00    2830.00  ...   \n",
            "households            204.00    218.00     441.00     599.00     603.00  ...   \n",
            "median_house_value  67000.00  67000.00  166900.00  194400.00  164200.00  ...   \n",
            "\n",
            "median_income          2.6923     7.1997     6.2263     5.1048     5.5867  \\\n",
            "longitude             -118.23    -117.17    -122.33    -117.91    -117.93   \n",
            "latitude                34.09      34.28      37.39      33.60      33.86   \n",
            "housing_median_age      49.00      13.00      52.00      37.00      35.00   \n",
            "total_rooms           1638.00    4867.00     573.00    2088.00     931.00   \n",
            "total_bedrooms         456.00     718.00     102.00     510.00     181.00   \n",
            "population            1500.00     780.00     232.00     673.00     516.00   \n",
            "households             430.00     250.00      92.00     390.00     174.00   \n",
            "median_house_value  150000.00  253800.00  500001.00  500001.00  182500.00   \n",
            "\n",
            "median_income          1.1790     3.3906   2.2895     3.2708     8.5608  \n",
            "longitude             -119.86    -118.14   -119.7    -117.12    -119.63  \n",
            "latitude                34.42      34.06     36.3      34.10      34.42  \n",
            "housing_median_age      23.00      27.00     10.0      40.00      42.00  \n",
            "total_rooms           1450.00    5257.00    956.0      96.00    1765.00  \n",
            "total_bedrooms         642.00    1082.00    201.0      14.00     263.00  \n",
            "population            1258.00    3496.00    693.0      46.00     753.00  \n",
            "households             607.00    1036.00    220.0      14.00     260.00  \n",
            "median_house_value  225000.00  237200.00  62000.0  162500.00  500001.00  \n",
            "\n",
            "[8 rows x 3000 columns]\n"
          ]
        }
      ]
    },
    {
      "cell_type": "markdown",
      "source": [
        "# the \".T\" transposes the columns as rows"
      ],
      "metadata": {
        "id": "VEFytiQLuP8G"
      }
    },
    {
      "cell_type": "code",
      "source": [
        "print(data.describe())"
      ],
      "metadata": {
        "colab": {
          "base_uri": "https://localhost:8080/"
        },
        "id": "UEBmwVfyuhYR",
        "outputId": "b48f0a3b-ec6a-47fa-c761-1d37dd4148dd"
      },
      "execution_count": null,
      "outputs": [
        {
          "output_type": "stream",
          "name": "stdout",
          "text": [
            "         longitude    latitude  housing_median_age   total_rooms  \\\n",
            "count  3000.000000  3000.00000         3000.000000   3000.000000   \n",
            "mean   -119.589200    35.63539           28.845333   2599.578667   \n",
            "std       1.994936     2.12967           12.555396   2155.593332   \n",
            "min    -124.180000    32.56000            1.000000      6.000000   \n",
            "25%    -121.810000    33.93000           18.000000   1401.000000   \n",
            "50%    -118.485000    34.27000           29.000000   2106.000000   \n",
            "75%    -118.020000    37.69000           37.000000   3129.000000   \n",
            "max    -114.490000    41.92000           52.000000  30450.000000   \n",
            "\n",
            "       total_bedrooms    population  households  median_house_value  \n",
            "count     3000.000000   3000.000000  3000.00000          3000.00000  \n",
            "mean       529.950667   1402.798667   489.91200        205846.27500  \n",
            "std        415.654368   1030.543012   365.42271        113119.68747  \n",
            "min          2.000000      5.000000     2.00000         22500.00000  \n",
            "25%        291.000000    780.000000   273.00000        121200.00000  \n",
            "50%        437.000000   1155.000000   409.50000        177650.00000  \n",
            "75%        636.000000   1742.750000   597.25000        263975.00000  \n",
            "max       5419.000000  11935.000000  4930.00000        500001.00000  \n"
          ]
        }
      ]
    },
    {
      "cell_type": "markdown",
      "source": [
        "the inner parenthesis are part of the describe function"
      ],
      "metadata": {
        "id": "NeDy5x_XvHbl"
      }
    },
    {
      "cell_type": "code",
      "source": [
        "data.T.to_csv('sample_data/california_housing_test_TRANSPOSED.csv')"
      ],
      "metadata": {
        "id": "keFyZ4zpvPAf"
      },
      "execution_count": null,
      "outputs": []
    },
    {
      "cell_type": "markdown",
      "source": [
        "###Plotting Data\n"
      ],
      "metadata": {
        "id": "7KEo2sQav-xF"
      }
    },
    {
      "cell_type": "code",
      "source": [
        "\n",
        "\n",
        "%matplotlib inline\n",
        "import matplotlib.pyplot as plt\n"
      ],
      "metadata": {
        "id": "hnTwya8MwKbc"
      },
      "execution_count": null,
      "outputs": []
    },
    {
      "cell_type": "code",
      "source": [
        "time = [0,1,2,3,4,5]\n",
        "response = [20,25,40,80,65,47]"
      ],
      "metadata": {
        "id": "sJpYbl31we9L"
      },
      "execution_count": null,
      "outputs": []
    },
    {
      "cell_type": "code",
      "source": [
        "print(time,response)"
      ],
      "metadata": {
        "colab": {
          "base_uri": "https://localhost:8080/"
        },
        "id": "tqpAH3SRwqM2",
        "outputId": "529c4882-7f51-4fe3-ab35-15a146c29c42"
      },
      "execution_count": null,
      "outputs": [
        {
          "output_type": "stream",
          "name": "stdout",
          "text": [
            "[0, 1, 2, 3, 4, 5] [20, 25, 40, 80, 65, 47]\n"
          ]
        }
      ]
    },
    {
      "cell_type": "code",
      "source": [
        "plt.plot(time,response)\n",
        "plt.xlabel('Time (hours)')\n",
        "plt.ylabel('Response (cm)')"
      ],
      "metadata": {
        "colab": {
          "base_uri": "https://localhost:8080/",
          "height": 296
        },
        "id": "h1z3kHVtww2x",
        "outputId": "d96cdd74-eaee-4b27-f73b-c94dad0bb9fb"
      },
      "execution_count": null,
      "outputs": [
        {
          "output_type": "execute_result",
          "data": {
            "text/plain": [
              "Text(0, 0.5, 'Response (cm)')"
            ]
          },
          "metadata": {},
          "execution_count": 27
        },
        {
          "output_type": "display_data",
          "data": {
            "text/plain": [
              "<Figure size 432x288 with 1 Axes>"
            ],
            "image/png": "[encoded data removed]"
          },
          "metadata": {
            "needs_background": "light"
          }
        }
      ]
    },
    {
      "cell_type": "code",
      "source": [
        "!curl -L -o PracCompPyData.zip http://bit.ly/PracCompPyData"
      ],
      "metadata": {
        "colab": {
          "base_uri": "https://localhost:8080/"
        },
        "id": "p2IQvMj8xH18",
        "outputId": "c517f67f-b648-4b25-8350-984f1b3d8615"
      },
      "execution_count": null,
      "outputs": [
        {
          "output_type": "stream",
          "name": "stdout",
          "text": [
            "  % Total    % Received % Xferd  Average Speed   Time    Time     Time  Current\n",
            "                                 Dload  Upload   Total   Spent    Left  Speed\n",
            "100   137  100   137    0     0    971      0 --:--:-- --:--:-- --:--:--   971\n",
            "100   116    0   116    0     0    272      0 --:--:-- --:--:-- --:--:--   272\n",
            "100   340  100   340    0     0    433      0 --:--:-- --:--:-- --:--:--     0\n",
            "100   534    0   534    0     0    564      0 --:--:-- --:--:-- --:--:--   564\n",
            "100 38179  100 38179    0     0  32327      0  0:00:01  0:00:01 --:--:-- 32327\n"
          ]
        }
      ]
    },
    {
      "cell_type": "code",
      "source": [
        "!unzip PracCompPyData.zip"
      ],
      "metadata": {
        "colab": {
          "base_uri": "https://localhost:8080/"
        },
        "id": "YAvCN-nlxcSC",
        "outputId": "2319f9eb-4c8f-4766-8850-f1b66be4ce13"
      },
      "execution_count": null,
      "outputs": [
        {
          "output_type": "stream",
          "name": "stdout",
          "text": [
            "Archive:  PracCompPyData.zip\n",
            "  inflating: data/gapminder_all.csv  \n",
            "  inflating: data/gapminder_gdp_africa.csv  \n",
            "  inflating: data/gapminder_gdp_americas.csv  \n",
            "  inflating: data/gapminder_gdp_asia.csv  \n",
            "  inflating: data/gapminder_gdp_europe.csv  \n",
            "  inflating: data/gapminder_gdp_oceania.csv  \n"
          ]
        }
      ]
    },
    {
      "cell_type": "code",
      "source": [
        "data = pd.read_csv('data/gapminder_gdp_oceania.csv', index_col='country')"
      ],
      "metadata": {
        "id": "sLIILev6xpyH"
      },
      "execution_count": null,
      "outputs": []
    },
    {
      "cell_type": "code",
      "source": [
        "print(data)"
      ],
      "metadata": {
        "colab": {
          "base_uri": "https://localhost:8080/"
        },
        "id": "a4jbQD2yx-V5",
        "outputId": "0842dc5f-04c7-4944-fda0-995a0d56e719"
      },
      "execution_count": null,
      "outputs": [
        {
          "output_type": "stream",
          "name": "stdout",
          "text": [
            "             gdpPercap_1952  gdpPercap_1957  gdpPercap_1962  gdpPercap_1967  \\\n",
            "country                                                                       \n",
            "Australia       10039.59564     10949.64959     12217.22686     14526.12465   \n",
            "New Zealand     10556.57566     12247.39532     13175.67800     14463.91893   \n",
            "\n",
            "             gdpPercap_1972  gdpPercap_1977  gdpPercap_1982  gdpPercap_1987  \\\n",
            "country                                                                       \n",
            "Australia       16788.62948     18334.19751     19477.00928     21888.88903   \n",
            "New Zealand     16046.03728     16233.71770     17632.41040     19007.19129   \n",
            "\n",
            "             gdpPercap_1992  gdpPercap_1997  gdpPercap_2002  gdpPercap_2007  \n",
            "country                                                                      \n",
            "Australia       23424.76683     26997.93657     30687.75473     34435.36744  \n",
            "New Zealand     18363.32494     21050.41377     23189.80135     25185.00911  \n"
          ]
        }
      ]
    },
    {
      "cell_type": "code",
      "source": [
        "years = data.columns.str.strip('gdpPercap_')"
      ],
      "metadata": {
        "id": "3FifzTReyK0g"
      },
      "execution_count": null,
      "outputs": []
    },
    {
      "cell_type": "code",
      "source": [
        "type(years)"
      ],
      "metadata": {
        "colab": {
          "base_uri": "https://localhost:8080/"
        },
        "id": "-IrtwXAyyVc4",
        "outputId": "eaa19589-7da0-4661-c678-e43d06de20ea"
      },
      "execution_count": null,
      "outputs": [
        {
          "output_type": "execute_result",
          "data": {
            "text/plain": [
              "pandas.core.indexes.base.Index"
            ]
          },
          "metadata": {},
          "execution_count": 35
        }
      ]
    },
    {
      "cell_type": "code",
      "source": [
        "data.info()"
      ],
      "metadata": {
        "colab": {
          "base_uri": "https://localhost:8080/"
        },
        "id": "Z_PeBWtiybgu",
        "outputId": "eb391aa5-c6d4-4ef3-c215-01f98a7cb163"
      },
      "execution_count": null,
      "outputs": [
        {
          "output_type": "stream",
          "name": "stdout",
          "text": [
            "<class 'pandas.core.frame.DataFrame'>\n",
            "Index: 2 entries, Australia to New Zealand\n",
            "Data columns (total 12 columns):\n",
            " #   Column          Non-Null Count  Dtype  \n",
            "---  ------          --------------  -----  \n",
            " 0   gdpPercap_1952  2 non-null      float64\n",
            " 1   gdpPercap_1957  2 non-null      float64\n",
            " 2   gdpPercap_1962  2 non-null      float64\n",
            " 3   gdpPercap_1967  2 non-null      float64\n",
            " 4   gdpPercap_1972  2 non-null      float64\n",
            " 5   gdpPercap_1977  2 non-null      float64\n",
            " 6   gdpPercap_1982  2 non-null      float64\n",
            " 7   gdpPercap_1987  2 non-null      float64\n",
            " 8   gdpPercap_1992  2 non-null      float64\n",
            " 9   gdpPercap_1997  2 non-null      float64\n",
            " 10  gdpPercap_2002  2 non-null      float64\n",
            " 11  gdpPercap_2007  2 non-null      float64\n",
            "dtypes: float64(12)\n",
            "memory usage: 316.0+ bytes\n"
          ]
        }
      ]
    },
    {
      "cell_type": "code",
      "source": [
        "print(data.columns)"
      ],
      "metadata": {
        "colab": {
          "base_uri": "https://localhost:8080/"
        },
        "id": "dAWLc13qyh-V",
        "outputId": "2e819c71-8cf7-427c-cad5-64308de8ba1e"
      },
      "execution_count": null,
      "outputs": [
        {
          "output_type": "stream",
          "name": "stdout",
          "text": [
            "Index(['gdpPercap_1952', 'gdpPercap_1957', 'gdpPercap_1962', 'gdpPercap_1967',\n",
            "       'gdpPercap_1972', 'gdpPercap_1977', 'gdpPercap_1982', 'gdpPercap_1987',\n",
            "       'gdpPercap_1992', 'gdpPercap_1997', 'gdpPercap_2002', 'gdpPercap_2007'],\n",
            "      dtype='object')\n"
          ]
        }
      ]
    },
    {
      "cell_type": "code",
      "source": [
        "print(data.T)"
      ],
      "metadata": {
        "colab": {
          "base_uri": "https://localhost:8080/"
        },
        "id": "Yn2rvEMmyyT4",
        "outputId": "95b10c54-2a4d-41f6-99e8-0e665c112ee5"
      },
      "execution_count": null,
      "outputs": [
        {
          "output_type": "stream",
          "name": "stdout",
          "text": [
            "country           Australia  New Zealand\n",
            "gdpPercap_1952  10039.59564  10556.57566\n",
            "gdpPercap_1957  10949.64959  12247.39532\n",
            "gdpPercap_1962  12217.22686  13175.67800\n",
            "gdpPercap_1967  14526.12465  14463.91893\n",
            "gdpPercap_1972  16788.62948  16046.03728\n",
            "gdpPercap_1977  18334.19751  16233.71770\n",
            "gdpPercap_1982  19477.00928  17632.41040\n",
            "gdpPercap_1987  21888.88903  19007.19129\n",
            "gdpPercap_1992  23424.76683  18363.32494\n",
            "gdpPercap_1997  26997.93657  21050.41377\n",
            "gdpPercap_2002  30687.75473  23189.80135\n",
            "gdpPercap_2007  34435.36744  25185.00911\n"
          ]
        }
      ]
    },
    {
      "cell_type": "code",
      "source": [
        "print(data.describe())"
      ],
      "metadata": {
        "colab": {
          "base_uri": "https://localhost:8080/"
        },
        "id": "vSu51L1ey3X5",
        "outputId": "92dfe98a-aa06-45b1-b3f3-a16a351ec996"
      },
      "execution_count": null,
      "outputs": [
        {
          "output_type": "stream",
          "name": "stdout",
          "text": [
            "       gdpPercap_1952  gdpPercap_1957  gdpPercap_1962  gdpPercap_1967  \\\n",
            "count        2.000000        2.000000        2.000000        2.000000   \n",
            "mean     10298.085650    11598.522455    12696.452430    14495.021790   \n",
            "std        365.560078      917.644806      677.727301       43.986086   \n",
            "min      10039.595640    10949.649590    12217.226860    14463.918930   \n",
            "25%      10168.840645    11274.086022    12456.839645    14479.470360   \n",
            "50%      10298.085650    11598.522455    12696.452430    14495.021790   \n",
            "75%      10427.330655    11922.958888    12936.065215    14510.573220   \n",
            "max      10556.575660    12247.395320    13175.678000    14526.124650   \n",
            "\n",
            "       gdpPercap_1972  gdpPercap_1977  gdpPercap_1982  gdpPercap_1987  \\\n",
            "count         2.00000        2.000000        2.000000        2.000000   \n",
            "mean      16417.33338    17283.957605    18554.709840    20448.040160   \n",
            "std         525.09198     1485.263517     1304.328377     2037.668013   \n",
            "min       16046.03728    16233.717700    17632.410400    19007.191290   \n",
            "25%       16231.68533    16758.837652    18093.560120    19727.615725   \n",
            "50%       16417.33338    17283.957605    18554.709840    20448.040160   \n",
            "75%       16602.98143    17809.077558    19015.859560    21168.464595   \n",
            "max       16788.62948    18334.197510    19477.009280    21888.889030   \n",
            "\n",
            "       gdpPercap_1992  gdpPercap_1997  gdpPercap_2002  gdpPercap_2007  \n",
            "count        2.000000        2.000000        2.000000        2.000000  \n",
            "mean     20894.045885    24024.175170    26938.778040    29810.188275  \n",
            "std       3578.979883     4205.533703     5301.853680     6540.991104  \n",
            "min      18363.324940    21050.413770    23189.801350    25185.009110  \n",
            "25%      19628.685412    22537.294470    25064.289695    27497.598692  \n",
            "50%      20894.045885    24024.175170    26938.778040    29810.188275  \n",
            "75%      22159.406358    25511.055870    28813.266385    32122.777858  \n",
            "max      23424.766830    26997.936570    30687.754730    34435.367440  \n"
          ]
        }
      ]
    },
    {
      "cell_type": "code",
      "source": [
        "data.columns = years.astype(int)"
      ],
      "metadata": {
        "id": "oSnNRbW0y_gq"
      },
      "execution_count": null,
      "outputs": []
    },
    {
      "cell_type": "markdown",
      "source": [
        "'int' turns remaining string into integers\n"
      ],
      "metadata": {
        "id": "ll0l9GWKzKsc"
      }
    },
    {
      "cell_type": "code",
      "source": [
        "print(data.columns)"
      ],
      "metadata": {
        "colab": {
          "base_uri": "https://localhost:8080/"
        },
        "id": "4Eqk4kx6zFWy",
        "outputId": "75b6c8a7-6339-4f6b-f268-62ebfdfd84c1"
      },
      "execution_count": null,
      "outputs": [
        {
          "output_type": "stream",
          "name": "stdout",
          "text": [
            "Int64Index([1952, 1957, 1962, 1967, 1972, 1977, 1982, 1987, 1992, 1997, 2002,\n",
            "            2007],\n",
            "           dtype='int64')\n"
          ]
        }
      ]
    },
    {
      "cell_type": "code",
      "source": [
        "data.plot()"
      ],
      "metadata": {
        "colab": {
          "base_uri": "https://localhost:8080/",
          "height": 296
        },
        "id": "ORVuYMG0zQ7R",
        "outputId": "187ebaf0-17f7-4a19-d29b-960d823fe6cf"
      },
      "execution_count": null,
      "outputs": [
        {
          "output_type": "execute_result",
          "data": {
            "text/plain": [
              "<matplotlib.axes._subplots.AxesSubplot at 0x7f7f61425350>"
            ]
          },
          "metadata": {},
          "execution_count": 42
        },
        {
          "output_type": "display_data",
          "data": {
            "text/plain": [
              "<Figure size 432x288 with 1 Axes>"
            ],
            "image/png": "[encoded data removed]"
          },
          "metadata": {
            "needs_background": "light"
          }
        }
      ]
    },
    {
      "cell_type": "code",
      "source": [
        "data.loc['Australia'].plot()"
      ],
      "metadata": {
        "colab": {
          "base_uri": "https://localhost:8080/",
          "height": 282
        },
        "id": "ZU8qvvMazbqP",
        "outputId": "fab5231c-9916-45e9-8171-3be60c77c3fc"
      },
      "execution_count": null,
      "outputs": [
        {
          "output_type": "execute_result",
          "data": {
            "text/plain": [
              "<matplotlib.axes._subplots.AxesSubplot at 0x7f7f61327250>"
            ]
          },
          "metadata": {},
          "execution_count": 43
        },
        {
          "output_type": "display_data",
          "data": {
            "text/plain": [
              "<Figure size 432x288 with 1 Axes>"
            ],
            "image/png": "[encoded data removed]"
          },
          "metadata": {
            "needs_background": "light"
          }
        }
      ]
    },
    {
      "cell_type": "markdown",
      "source": [
        "in python when you use [] you are indexing \n",
        "'.loc' refers to data location\n"
      ],
      "metadata": {
        "id": "VizCh-kfzqgQ"
      }
    },
    {
      "cell_type": "code",
      "source": [
        "data.T.plot()\n",
        "plt.ylabel('GDP/capita')\n",
        "plt.xlabel('Year')"
      ],
      "metadata": {
        "colab": {
          "base_uri": "https://localhost:8080/",
          "height": 296
        },
        "id": "oHNXFj8K0iJO",
        "outputId": "c2b351a9-4cbb-443f-9dbf-4280902927d6"
      },
      "execution_count": null,
      "outputs": [
        {
          "output_type": "execute_result",
          "data": {
            "text/plain": [
              "Text(0.5, 0, 'Year')"
            ]
          },
          "metadata": {},
          "execution_count": 46
        },
        {
          "output_type": "display_data",
          "data": {
            "text/plain": [
              "<Figure size 432x288 with 1 Axes>"
            ],
            "image/png": "[encoded data removed]"
          },
          "metadata": {
            "needs_background": "light"
          }
        }
      ]
    },
    {
      "cell_type": "code",
      "source": [
        "plt.style.use('ggplot')\n",
        "data.T.plot()\n",
        "plt.ylabel('GDP/capita')\n",
        "plt.xlabel('Year')"
      ],
      "metadata": {
        "colab": {
          "base_uri": "https://localhost:8080/",
          "height": 299
        },
        "id": "6S0rTywe1EeM",
        "outputId": "5db5b60d-099b-455d-bd2f-d735dd8d7834"
      },
      "execution_count": null,
      "outputs": [
        {
          "output_type": "execute_result",
          "data": {
            "text/plain": [
              "Text(0.5, 0, 'Year')"
            ]
          },
          "metadata": {},
          "execution_count": 47
        },
        {
          "output_type": "display_data",
          "data": {
            "text/plain": [
              "<Figure size 432x288 with 1 Axes>"
            ],
            "image/png": "[encoded data removed]"
          },
          "metadata": {}
        }
      ]
    },
    {
      "cell_type": "markdown",
      "source": [],
      "metadata": {
        "id": "MtY4spS19dHk"
      }
    },
    {
      "cell_type": "code",
      "source": [
        "plt.style.use('ggplot')\n",
        "data.T.plot(kind= 'bar')\n",
        "plt.ylabel('GDP/capita')\n",
        "plt.xlabel('Year')"
      ],
      "metadata": {
        "colab": {
          "base_uri": "https://localhost:8080/",
          "height": 315
        },
        "id": "5RRgfNwm1OEJ",
        "outputId": "48bfd753-7345-446d-8479-6d9a2df324a5"
      },
      "execution_count": null,
      "outputs": [
        {
          "output_type": "execute_result",
          "data": {
            "text/plain": [
              "Text(0.5, 0, 'Year')"
            ]
          },
          "metadata": {},
          "execution_count": 48
        },
        {
          "output_type": "display_data",
          "data": {
            "text/plain": [
              "<Figure size 432x288 with 1 Axes>"
            ],
            "image/png": "[encoded data removed]"
          },
          "metadata": {}
        }
      ]
    },
    {
      "cell_type": "code",
      "source": [
        "plt.plot(time,response, 'g--')"
      ],
      "metadata": {
        "colab": {
          "base_uri": "https://localhost:8080/",
          "height": 282
        },
        "id": "0czXP8Ku1d85",
        "outputId": "320f774a-060d-4a24-b8f1-7c16a41c7c02"
      },
      "execution_count": null,
      "outputs": [
        {
          "output_type": "execute_result",
          "data": {
            "text/plain": [
              "[<matplotlib.lines.Line2D at 0x7f7f60faaa90>]"
            ]
          },
          "metadata": {},
          "execution_count": 49
        },
        {
          "output_type": "display_data",
          "data": {
            "text/plain": [
              "<Figure size 432x288 with 1 Axes>"
            ],
            "image/png": "[encoded data removed]"
          },
          "metadata": {}
        }
      ]
    },
    {
      "cell_type": "code",
      "source": [
        "plt.plot(time,response, 'bo')\n"
      ],
      "metadata": {
        "colab": {
          "base_uri": "https://localhost:8080/",
          "height": 282
        },
        "id": "76x1L5KY1wDd",
        "outputId": "a089f61d-eabf-49a3-b346-39dd640bd6de"
      },
      "execution_count": null,
      "outputs": [
        {
          "output_type": "execute_result",
          "data": {
            "text/plain": [
              "[<matplotlib.lines.Line2D at 0x7f7f60f66e10>]"
            ]
          },
          "metadata": {},
          "execution_count": 50
        },
        {
          "output_type": "display_data",
          "data": {
            "text/plain": [
              "<Figure size 432x288 with 1 Axes>"
            ],
            "image/png": "[encoded data removed]"
          },
          "metadata": {}
        }
      ]
    },
    {
      "cell_type": "code",
      "source": [
        "gdp_australia = data.loc['Australia']\n",
        "gdp_nz= data.loc['New Zealand']\n",
        "\n",
        "plt.plot(years, gdp_australia, 'g--', label= 'Australia')\n",
        "plt.plot(years, gdp_nz, 'o-', label = 'New Zealand')\n",
        "\n",
        "plt.xlabel('Year')\n",
        "plt.ylabel('GDP/capita')\n",
        "plt.legend(loc= 'lower right')"
      ],
      "metadata": {
        "colab": {
          "base_uri": "https://localhost:8080/",
          "height": 299
        },
        "id": "YjoJ06A72XRo",
        "outputId": "97cb8d20-896e-497a-be9c-e393171ce2ea"
      },
      "execution_count": null,
      "outputs": [
        {
          "output_type": "execute_result",
          "data": {
            "text/plain": [
              "<matplotlib.legend.Legend at 0x7f7f60efe2d0>"
            ]
          },
          "metadata": {},
          "execution_count": 53
        },
        {
          "output_type": "display_data",
          "data": {
            "text/plain": [
              "<Figure size 432x288 with 1 Axes>"
            ],
            "image/png": "[encoded data removed]"
          },
          "metadata": {}
        }
      ]
    },
    {
      "cell_type": "code",
      "source": [
        "plt.scatter(gdp_australia, gdp_nz)"
      ],
      "metadata": {
        "colab": {
          "base_uri": "https://localhost:8080/",
          "height": 282
        },
        "id": "tgnNj_Xe3j1h",
        "outputId": "6f7ed63d-49ed-44ae-a0a4-a2afe5f01d22"
      },
      "execution_count": null,
      "outputs": [
        {
          "output_type": "execute_result",
          "data": {
            "text/plain": [
              "<matplotlib.collections.PathCollection at 0x7f7f61b56dd0>"
            ]
          },
          "metadata": {},
          "execution_count": 54
        },
        {
          "output_type": "display_data",
          "data": {
            "text/plain": [
              "<Figure size 432x288 with 1 Axes>"
            ],
            "image/png": "[encoded data removed]"
          },
          "metadata": {}
        }
      ]
    },
    {
      "cell_type": "code",
      "source": [
        "import matplotlib\n"
      ],
      "metadata": {
        "colab": {
          "base_uri": "https://localhost:8080/"
        },
        "id": "XX2qSC2L39B2",
        "outputId": "68b7e122-f070-4576-d6b5-606a1bc3e853"
      },
      "execution_count": null,
      "outputs": [
        {
          "output_type": "stream",
          "name": "stdout",
          "text": [
            "Help on function use in module matplotlib.style.core:\n",
            "\n",
            "use(style)\n",
            "    Use matplotlib style settings from a style specification.\n",
            "    \n",
            "    The style name of 'default' is reserved for reverting back to\n",
            "    the default style settings.\n",
            "    \n",
            "    Parameters\n",
            "    ----------\n",
            "    style : str, dict, Path or list\n",
            "        A style specification. Valid options are:\n",
            "    \n",
            "        +------+-------------------------------------------------------------+\n",
            "        | str  | The name of a style or a path/URL to a style file. For a    |\n",
            "        |      | list of available style names, see `style.available`.       |\n",
            "        +------+-------------------------------------------------------------+\n",
            "        | dict | Dictionary with valid key/value pairs for                   |\n",
            "        |      | `matplotlib.rcParams`.                                      |\n",
            "        +------+-------------------------------------------------------------+\n",
            "        | Path | A path-like object which is a path to a style file.         |\n",
            "        +------+-------------------------------------------------------------+\n",
            "        | list | A list of style specifiers (str, Path or dict) applied from |\n",
            "        |      | first to last in the list.                                  |\n",
            "        +------+-------------------------------------------------------------+\n",
            "\n",
            "Help on package matplotlib:\n",
            "\n",
            "NAME\n",
            "    matplotlib - This is an object-oriented plotting library.\n",
            "\n",
            "DESCRIPTION\n",
            "    A procedural interface is provided by the companion pyplot module,\n",
            "    which may be imported directly, e.g.::\n",
            "    \n",
            "        import matplotlib.pyplot as plt\n",
            "    \n",
            "    or using ipython::\n",
            "    \n",
            "        ipython\n",
            "    \n",
            "    at your terminal, followed by::\n",
            "    \n",
            "        In [1]: %matplotlib\n",
            "        In [2]: import matplotlib.pyplot as plt\n",
            "    \n",
            "    at the ipython shell prompt.\n",
            "    \n",
            "    For the most part, direct use of the object-oriented library is\n",
            "    encouraged when programming; pyplot is primarily for working\n",
            "    interactively.  The\n",
            "    exceptions are the pyplot commands :func:`~matplotlib.pyplot.figure`,\n",
            "    :func:`~matplotlib.pyplot.subplot`,\n",
            "    :func:`~matplotlib.pyplot.subplots`, and\n",
            "    :func:`~pyplot.savefig`, which can greatly simplify scripting.\n",
            "    \n",
            "    Modules include:\n",
            "    \n",
            "        :mod:`matplotlib.axes`\n",
            "            defines the :class:`~matplotlib.axes.Axes` class.  Most pyplot\n",
            "            commands are wrappers for :class:`~matplotlib.axes.Axes`\n",
            "            methods.  The axes module is the highest level of OO access to\n",
            "            the library.\n",
            "    \n",
            "        :mod:`matplotlib.figure`\n",
            "            defines the :class:`~matplotlib.figure.Figure` class.\n",
            "    \n",
            "        :mod:`matplotlib.artist`\n",
            "            defines the :class:`~matplotlib.artist.Artist` base class for\n",
            "            all classes that draw things.\n",
            "    \n",
            "        :mod:`matplotlib.lines`\n",
            "            defines the :class:`~matplotlib.lines.Line2D` class for\n",
            "            drawing lines and markers\n",
            "    \n",
            "        :mod:`matplotlib.patches`\n",
            "            defines classes for drawing polygons\n",
            "    \n",
            "        :mod:`matplotlib.text`\n",
            "            defines the :class:`~matplotlib.text.Text`,\n",
            "            :class:`~matplotlib.text.TextWithDash`, and\n",
            "            :class:`~matplotlib.text.Annotate` classes\n",
            "    \n",
            "        :mod:`matplotlib.image`\n",
            "            defines the :class:`~matplotlib.image.AxesImage` and\n",
            "            :class:`~matplotlib.image.FigureImage` classes\n",
            "    \n",
            "        :mod:`matplotlib.collections`\n",
            "            classes for efficient drawing of groups of lines or polygons\n",
            "    \n",
            "        :mod:`matplotlib.colors`\n",
            "            classes for interpreting color specifications and for making\n",
            "            colormaps\n",
            "    \n",
            "        :mod:`matplotlib.cm`\n",
            "            colormaps and the :class:`~matplotlib.image.ScalarMappable`\n",
            "            mixin class for providing color mapping functionality to other\n",
            "            classes\n",
            "    \n",
            "        :mod:`matplotlib.ticker`\n",
            "            classes for calculating tick mark locations and for formatting\n",
            "            tick labels\n",
            "    \n",
            "        :mod:`matplotlib.backends`\n",
            "            a subpackage with modules for various gui libraries and output\n",
            "            formats\n",
            "    \n",
            "    The base matplotlib namespace includes:\n",
            "    \n",
            "        :data:`~matplotlib.rcParams`\n",
            "            a global dictionary of default configuration settings.  It is\n",
            "            initialized by code which may be overridden by a matplotlibrc\n",
            "            file.\n",
            "    \n",
            "        :func:`~matplotlib.rc`\n",
            "            a function for setting groups of rcParams values\n",
            "    \n",
            "        :func:`~matplotlib.use`\n",
            "            a function for setting the matplotlib backend.  If used, this\n",
            "            function must be called immediately after importing matplotlib\n",
            "            for the first time.  In particular, it must be called\n",
            "            **before** importing pyplot (if pyplot is imported).\n",
            "    \n",
            "    matplotlib was initially written by John D. Hunter (1968-2012) and is now\n",
            "    developed and maintained by a host of others.\n",
            "    \n",
            "    Occasionally the internal documentation (python docstrings) will refer\n",
            "    to MATLAB&reg;, a registered trademark of The MathWorks, Inc.\n",
            "\n",
            "PACKAGE CONTENTS\n",
            "    _animation_data\n",
            "    _cm\n",
            "    _cm_listed\n",
            "    _color_data\n",
            "    _constrained_layout\n",
            "    _contour\n",
            "    _image\n",
            "    _layoutbox\n",
            "    _mathtext_data\n",
            "    _path\n",
            "    _png\n",
            "    _pylab_helpers\n",
            "    _qhull\n",
            "    _text_layout\n",
            "    _tri\n",
            "    _version\n",
            "    afm\n",
            "    animation\n",
            "    artist\n",
            "    axes (package)\n",
            "    axis\n",
            "    backend_bases\n",
            "    backend_managers\n",
            "    backend_tools\n",
            "    backends (package)\n",
            "    bezier\n",
            "    blocking_input\n",
            "    category\n",
            "    cbook (package)\n",
            "    cm\n",
            "    collections\n",
            "    colorbar\n",
            "    colors\n",
            "    compat (package)\n",
            "    container\n",
            "    contour\n",
            "    dates\n",
            "    docstring\n",
            "    dviread\n",
            "    figure\n",
            "    font_manager\n",
            "    fontconfig_pattern\n",
            "    ft2font\n",
            "    gridspec\n",
            "    hatch\n",
            "    image\n",
            "    legend\n",
            "    legend_handler\n",
            "    lines\n",
            "    markers\n",
            "    mathtext\n",
            "    mlab\n",
            "    offsetbox\n",
            "    patches\n",
            "    path\n",
            "    patheffects\n",
            "    projections (package)\n",
            "    pylab\n",
            "    pyplot\n",
            "    quiver\n",
            "    rcsetup\n",
            "    sankey\n",
            "    scale\n",
            "    sphinxext (package)\n",
            "    spines\n",
            "    stackplot\n",
            "    streamplot\n",
            "    style (package)\n",
            "    table\n",
            "    testing (package)\n",
            "    tests (package)\n",
            "    texmanager\n",
            "    text\n",
            "    textpath\n",
            "    ticker\n",
            "    tight_bbox\n",
            "    tight_layout\n",
            "    transforms\n",
            "    tri (package)\n",
            "    ttconv\n",
            "    type1font\n",
            "    units\n",
            "    widgets\n",
            "\n",
            "CLASSES\n",
            "    builtins.FileNotFoundError(builtins.OSError)\n",
            "        ExecutableNotFoundError\n",
            "    builtins.dict(builtins.object)\n",
            "        RcParams(collections.abc.MutableMapping, builtins.dict)\n",
            "    builtins.object\n",
            "        rc_context\n",
            "    collections.abc.MutableMapping(collections.abc.Mapping)\n",
            "        RcParams(collections.abc.MutableMapping, builtins.dict)\n",
            "    \n",
            "    class ExecutableNotFoundError(builtins.FileNotFoundError)\n",
            "     |  Error raised when an executable that Matplotlib optionally\n",
            "     |  depends on can't be found.\n",
            "     |  \n",
            "     |  Method resolution order:\n",
            "     |      ExecutableNotFoundError\n",
            "     |      builtins.FileNotFoundError\n",
            "     |      builtins.OSError\n",
            "     |      builtins.Exception\n",
            "     |      builtins.BaseException\n",
            "     |      builtins.object\n",
            "     |  \n",
            "     |  Data descriptors defined here:\n",
            "     |  \n",
            "     |  __weakref__\n",
            "     |      list of weak references to the object (if defined)\n",
            "     |  \n",
            "     |  ----------------------------------------------------------------------\n",
            "     |  Methods inherited from builtins.FileNotFoundError:\n",
            "     |  \n",
            "     |  __init__(self, /, *args, **kwargs)\n",
            "     |      Initialize self.  See help(type(self)) for accurate signature.\n",
            "     |  \n",
            "     |  ----------------------------------------------------------------------\n",
            "     |  Methods inherited from builtins.OSError:\n",
            "     |  \n",
            "     |  __reduce__(...)\n",
            "     |      Helper for pickle.\n",
            "     |  \n",
            "     |  __str__(self, /)\n",
            "     |      Return str(self).\n",
            "     |  \n",
            "     |  ----------------------------------------------------------------------\n",
            "     |  Static methods inherited from builtins.OSError:\n",
            "     |  \n",
            "     |  __new__(*args, **kwargs) from builtins.type\n",
            "     |      Create and return a new object.  See help(type) for accurate signature.\n",
            "     |  \n",
            "     |  ----------------------------------------------------------------------\n",
            "     |  Data descriptors inherited from builtins.OSError:\n",
            "     |  \n",
            "     |  characters_written\n",
            "     |  \n",
            "     |  errno\n",
            "     |      POSIX exception code\n",
            "     |  \n",
            "     |  filename\n",
            "     |      exception filename\n",
            "     |  \n",
            "     |  filename2\n",
            "     |      second exception filename\n",
            "     |  \n",
            "     |  strerror\n",
            "     |      exception strerror\n",
            "     |  \n",
            "     |  ----------------------------------------------------------------------\n",
            "     |  Methods inherited from builtins.BaseException:\n",
            "     |  \n",
            "     |  __delattr__(self, name, /)\n",
            "     |      Implement delattr(self, name).\n",
            "     |  \n",
            "     |  __getattribute__(self, name, /)\n",
            "     |      Return getattr(self, name).\n",
            "     |  \n",
            "     |  __repr__(self, /)\n",
            "     |      Return repr(self).\n",
            "     |  \n",
            "     |  __setattr__(self, name, value, /)\n",
            "     |      Implement setattr(self, name, value).\n",
            "     |  \n",
            "     |  __setstate__(...)\n",
            "     |  \n",
            "     |  with_traceback(...)\n",
            "     |      Exception.with_traceback(tb) --\n",
            "     |      set self.__traceback__ to tb and return self.\n",
            "     |  \n",
            "     |  ----------------------------------------------------------------------\n",
            "     |  Data descriptors inherited from builtins.BaseException:\n",
            "     |  \n",
            "     |  __cause__\n",
            "     |      exception cause\n",
            "     |  \n",
            "     |  __context__\n",
            "     |      exception context\n",
            "     |  \n",
            "     |  __dict__\n",
            "     |  \n",
            "     |  __suppress_context__\n",
            "     |  \n",
            "     |  __traceback__\n",
            "     |  \n",
            "     |  args\n",
            "    \n",
            "    class RcParams(collections.abc.MutableMapping, builtins.dict)\n",
            "     |  RcParams(*args, **kwargs)\n",
            "     |  \n",
            "     |  A dictionary object including validation.\n",
            "     |  \n",
            "     |  Validating functions are defined and associated with rc parameters in\n",
            "     |  :mod:`matplotlib.rcsetup`.\n",
            "     |  \n",
            "     |  See Also\n",
            "     |  --------\n",
            "     |  :ref:`customizing-with-matplotlibrc-files`\n",
            "     |  \n",
            "     |  Method resolution order:\n",
            "     |      RcParams\n",
            "     |      collections.abc.MutableMapping\n",
            "     |      collections.abc.Mapping\n",
            "     |      collections.abc.Collection\n",
            "     |      collections.abc.Sized\n",
            "     |      collections.abc.Iterable\n",
            "     |      collections.abc.Container\n",
            "     |      builtins.dict\n",
            "     |      builtins.object\n",
            "     |  \n",
            "     |  Methods defined here:\n",
            "     |  \n",
            "     |  __getitem__(self, key)\n",
            "     |      x.__getitem__(y) <==> x[y]\n",
            "     |  \n",
            "     |  __init__(self, *args, **kwargs)\n",
            "     |      Initialize self.  See help(type(self)) for accurate signature.\n",
            "     |  \n",
            "     |  __iter__(self)\n",
            "     |      Yield sorted list of keys.\n",
            "     |  \n",
            "     |  __len__(self)\n",
            "     |      Return len(self).\n",
            "     |  \n",
            "     |  __repr__(self)\n",
            "     |      Return repr(self).\n",
            "     |  \n",
            "     |  __setitem__(self, key, val)\n",
            "     |      Set self[key] to value.\n",
            "     |  \n",
            "     |  __str__(self)\n",
            "     |      Return str(self).\n",
            "     |  \n",
            "     |  copy(self)\n",
            "     |      D.copy() -> a shallow copy of D\n",
            "     |  \n",
            "     |  find_all(self, pattern)\n",
            "     |      Return the subset of this RcParams dictionary whose keys match,\n",
            "     |      using :func:`re.search`, the given ``pattern``.\n",
            "     |      \n",
            "     |      .. note::\n",
            "     |      \n",
            "     |          Changes to the returned dictionary are *not* propagated to\n",
            "     |          the parent RcParams dictionary.\n",
            "     |  \n",
            "     |  ----------------------------------------------------------------------\n",
            "     |  Data descriptors defined here:\n",
            "     |  \n",
            "     |  __dict__\n",
            "     |      dictionary for instance variables (if defined)\n",
            "     |  \n",
            "     |  __weakref__\n",
            "     |      list of weak references to the object (if defined)\n",
            "     |  \n",
            "     |  ----------------------------------------------------------------------\n",
            "     |  Data and other attributes defined here:\n",
            "     |  \n",
            "     |  __abstractmethods__ = frozenset({'__delitem__'})\n",
            "     |  \n",
            "     |  validate = {'_internal.classic_mode': <function validate_bool>, 'agg.p...\n",
            "     |  \n",
            "     |  ----------------------------------------------------------------------\n",
            "     |  Methods inherited from collections.abc.MutableMapping:\n",
            "     |  \n",
            "     |  __delitem__(self, key)\n",
            "     |  \n",
            "     |  clear(self)\n",
            "     |      D.clear() -> None.  Remove all items from D.\n",
            "     |  \n",
            "     |  pop(self, key, default=<object object at 0x7f7f833b42e0>)\n",
            "     |      D.pop(k[,d]) -> v, remove specified key and return the corresponding value.\n",
            "     |      If key is not found, d is returned if given, otherwise KeyError is raised.\n",
            "     |  \n",
            "     |  popitem(self)\n",
            "     |      D.popitem() -> (k, v), remove and return some (key, value) pair\n",
            "     |      as a 2-tuple; but raise KeyError if D is empty.\n",
            "     |  \n",
            "     |  setdefault(self, key, default=None)\n",
            "     |      D.setdefault(k[,d]) -> D.get(k,d), also set D[k]=d if k not in D\n",
            "     |  \n",
            "     |  update(*args, **kwds)\n",
            "     |      D.update([E, ]**F) -> None.  Update D from mapping/iterable E and F.\n",
            "     |      If E present and has a .keys() method, does:     for k in E: D[k] = E[k]\n",
            "     |      If E present and lacks .keys() method, does:     for (k, v) in E: D[k] = v\n",
            "     |      In either case, this is followed by: for k, v in F.items(): D[k] = v\n",
            "     |  \n",
            "     |  ----------------------------------------------------------------------\n",
            "     |  Methods inherited from collections.abc.Mapping:\n",
            "     |  \n",
            "     |  __contains__(self, key)\n",
            "     |  \n",
            "     |  __eq__(self, other)\n",
            "     |      Return self==value.\n",
            "     |  \n",
            "     |  get(self, key, default=None)\n",
            "     |      D.get(k[,d]) -> D[k] if k in D, else d.  d defaults to None.\n",
            "     |  \n",
            "     |  items(self)\n",
            "     |      D.items() -> a set-like object providing a view on D's items\n",
            "     |  \n",
            "     |  keys(self)\n",
            "     |      D.keys() -> a set-like object providing a view on D's keys\n",
            "     |  \n",
            "     |  values(self)\n",
            "     |      D.values() -> an object providing a view on D's values\n",
            "     |  \n",
            "     |  ----------------------------------------------------------------------\n",
            "     |  Data and other attributes inherited from collections.abc.Mapping:\n",
            "     |  \n",
            "     |  __hash__ = None\n",
            "     |  \n",
            "     |  __reversed__ = None\n",
            "     |  \n",
            "     |  ----------------------------------------------------------------------\n",
            "     |  Class methods inherited from collections.abc.Collection:\n",
            "     |  \n",
            "     |  __subclasshook__(C) from abc.ABCMeta\n",
            "     |      Abstract classes can override this to customize issubclass().\n",
            "     |      \n",
            "     |      This is invoked early on by abc.ABCMeta.__subclasscheck__().\n",
            "     |      It should return True, False or NotImplemented.  If it returns\n",
            "     |      NotImplemented, the normal algorithm is used.  Otherwise, it\n",
            "     |      overrides the normal algorithm (and the outcome is cached).\n",
            "     |  \n",
            "     |  ----------------------------------------------------------------------\n",
            "     |  Methods inherited from builtins.dict:\n",
            "     |  \n",
            "     |  __ge__(self, value, /)\n",
            "     |      Return self>=value.\n",
            "     |  \n",
            "     |  __getattribute__(self, name, /)\n",
            "     |      Return getattr(self, name).\n",
            "     |  \n",
            "     |  __gt__(self, value, /)\n",
            "     |      Return self>value.\n",
            "     |  \n",
            "     |  __le__(self, value, /)\n",
            "     |      Return self<=value.\n",
            "     |  \n",
            "     |  __lt__(self, value, /)\n",
            "     |      Return self<value.\n",
            "     |  \n",
            "     |  __ne__(self, value, /)\n",
            "     |      Return self!=value.\n",
            "     |  \n",
            "     |  __sizeof__(...)\n",
            "     |      D.__sizeof__() -> size of D in memory, in bytes\n",
            "     |  \n",
            "     |  ----------------------------------------------------------------------\n",
            "     |  Class methods inherited from builtins.dict:\n",
            "     |  \n",
            "     |  fromkeys(iterable, value=None, /) from abc.ABCMeta\n",
            "     |      Create a new dictionary with keys from iterable and values set to value.\n",
            "     |  \n",
            "     |  ----------------------------------------------------------------------\n",
            "     |  Static methods inherited from builtins.dict:\n",
            "     |  \n",
            "     |  __new__(*args, **kwargs) from builtins.type\n",
            "     |      Create and return a new object.  See help(type) for accurate signature.\n",
            "    \n",
            "    class rc_context(builtins.object)\n",
            "     |  rc_context(rc=None, fname=None)\n",
            "     |  \n",
            "     |  Return a context manager for managing rc settings.\n",
            "     |  \n",
            "     |  This allows one to do::\n",
            "     |  \n",
            "     |      with mpl.rc_context(fname='screen.rc'):\n",
            "     |          plt.plot(x, a)  # uses 'screen.rc'\n",
            "     |          with mpl.rc_context(fname='print.rc'):\n",
            "     |              plt.plot(x, b)  # uses 'print.rc'\n",
            "     |          plt.plot(x, c)  # uses 'screen.rc'\n",
            "     |  \n",
            "     |  A dictionary can also be passed to the context manager::\n",
            "     |  \n",
            "     |      with mpl.rc_context(rc={'text.usetex': True}, fname='screen.rc'):\n",
            "     |          plt.plot(x, a)\n",
            "     |  \n",
            "     |  The 'rc' dictionary takes precedence over the settings loaded from\n",
            "     |  'fname'.  Passing a dictionary only is also valid. For example a\n",
            "     |  common usage is::\n",
            "     |  \n",
            "     |      with mpl.rc_context(rc={'interactive': False}):\n",
            "     |          fig, ax = plt.subplots()\n",
            "     |          ax.plot(range(3), range(3))\n",
            "     |          fig.savefig('A.png', format='png')\n",
            "     |          plt.close(fig)\n",
            "     |  \n",
            "     |  Methods defined here:\n",
            "     |  \n",
            "     |  __enter__(self)\n",
            "     |  \n",
            "     |  __exit__(self, exc_type, exc_value, exc_tb)\n",
            "     |  \n",
            "     |  __init__(self, rc=None, fname=None)\n",
            "     |      Initialize self.  See help(type(self)) for accurate signature.\n",
            "     |  \n",
            "     |  ----------------------------------------------------------------------\n",
            "     |  Data descriptors defined here:\n",
            "     |  \n",
            "     |  __dict__\n",
            "     |      dictionary for instance variables (if defined)\n",
            "     |  \n",
            "     |  __weakref__\n",
            "     |      list of weak references to the object (if defined)\n",
            "\n",
            "FUNCTIONS\n",
            "    checkdep_dvipng()\n",
            "        [*Deprecated*] \n",
            "        \n",
            "        Notes\n",
            "        -----\n",
            "        .. deprecated:: 3.1\n",
            "           \\\n",
            "    \n",
            "    checkdep_ghostscript()\n",
            "        [*Deprecated*] \n",
            "        \n",
            "        Notes\n",
            "        -----\n",
            "        .. deprecated:: 3.1\n",
            "           \\\n",
            "    \n",
            "    checkdep_inkscape()\n",
            "        [*Deprecated*] \n",
            "        \n",
            "        Notes\n",
            "        -----\n",
            "        .. deprecated:: 3.1\n",
            "           \\\n",
            "    \n",
            "    checkdep_pdftops()\n",
            "        [*Deprecated*] \n",
            "        \n",
            "        Notes\n",
            "        -----\n",
            "        .. deprecated:: 3.1\n",
            "           \\\n",
            "    \n",
            "    checkdep_ps_distiller(s)\n",
            "        [*Deprecated*] \n",
            "        \n",
            "        Notes\n",
            "        -----\n",
            "        .. deprecated:: 3.2\n",
            "           \\\n",
            "    \n",
            "    checkdep_usetex(s)\n",
            "    \n",
            "    compare_versions(a, b)\n",
            "        [*Deprecated*] Return whether version *a* is greater than or equal to version *b*.\n",
            "        \n",
            "        Notes\n",
            "        -----\n",
            "        .. deprecated:: 3.2\n",
            "    \n",
            "    get_backend()\n",
            "        Return the name of the current backend.\n",
            "        \n",
            "        See Also\n",
            "        --------\n",
            "        matplotlib.use\n",
            "    \n",
            "    get_cachedir()\n",
            "        Return the location of the cache directory.\n",
            "        \n",
            "        The procedure used to find the directory is the same as for\n",
            "        _get_config_dir, except using `$XDG_CACHE_HOME`/`~/.cache` instead.\n",
            "    \n",
            "    get_configdir()\n",
            "        Return the string representing the configuration directory.\n",
            "        \n",
            "        The directory is chosen as follows:\n",
            "        \n",
            "        1. If the MPLCONFIGDIR environment variable is supplied, choose that.\n",
            "        2a. On Linux, follow the XDG specification and look first in\n",
            "            `$XDG_CONFIG_HOME`, if defined, or `$HOME/.config`.\n",
            "        2b. On other platforms, choose `$HOME/.matplotlib`.\n",
            "        3. If the chosen directory exists and is writable, use that as the\n",
            "           configuration directory.\n",
            "        4. If possible, create a temporary directory, and use it as the\n",
            "           configuration directory.\n",
            "        5. A writable directory could not be found or created; return None.\n",
            "    \n",
            "    get_data_path(*, _from_rc=None)\n",
            "        Return the path to Matplotlib data.\n",
            "    \n",
            "    get_home()\n",
            "        [*Deprecated*] Return the user's home directory.\n",
            "        \n",
            "        If the user's home directory cannot be found, return None.\n",
            "        \n",
            "        Notes\n",
            "        -----\n",
            "        .. deprecated:: 3.2\n",
            "    \n",
            "    get_py2exe_datafiles()\n",
            "        [*Deprecated*] \n",
            "        \n",
            "        Notes\n",
            "        -----\n",
            "        .. deprecated:: 3.1\n",
            "           \\\n",
            "    \n",
            "    interactive(b)\n",
            "        Set whether to redraw after every plotting command (e.g. `.pyplot.xlabel`).\n",
            "    \n",
            "    is_interactive()\n",
            "        Return whether to redraw after every plotting command.\n",
            "    \n",
            "    is_url(filename)\n",
            "        Return True if string is an http, ftp, or file URL path.\n",
            "    \n",
            "    matplotlib_fname()\n",
            "        Get the location of the config file.\n",
            "        \n",
            "        The file location is determined in the following order\n",
            "        \n",
            "        - ``$PWD/matplotlibrc``\n",
            "        - ``$MATPLOTLIBRC`` if it is not a directory\n",
            "        - ``$MATPLOTLIBRC/matplotlibrc``\n",
            "        - ``$MPLCONFIGDIR/matplotlibrc``\n",
            "        - On Linux,\n",
            "            - ``$XDG_CONFIG_HOME/matplotlib/matplotlibrc`` (if ``$XDG_CONFIG_HOME``\n",
            "              is defined)\n",
            "            - or ``$HOME/.config/matplotlib/matplotlibrc`` (if ``$XDG_CONFIG_HOME``\n",
            "              is not defined)\n",
            "        - On other platforms,\n",
            "          - ``$HOME/.matplotlib/matplotlibrc`` if ``$HOME`` is defined\n",
            "        - Lastly, it looks in ``$MATPLOTLIBDATA/matplotlibrc``, which should always\n",
            "          exist.\n",
            "    \n",
            "    rc(group, **kwargs)\n",
            "        Set the current rc params.  *group* is the grouping for the rc, e.g.,\n",
            "        for ``lines.linewidth`` the group is ``lines``, for\n",
            "        ``axes.facecolor``, the group is ``axes``, and so on.  Group may\n",
            "        also be a list or tuple of group names, e.g., (*xtick*, *ytick*).\n",
            "        *kwargs* is a dictionary attribute name/value pairs, e.g.,::\n",
            "        \n",
            "          rc('lines', linewidth=2, color='r')\n",
            "        \n",
            "        sets the current rc params and is equivalent to::\n",
            "        \n",
            "          rcParams['lines.linewidth'] = 2\n",
            "          rcParams['lines.color'] = 'r'\n",
            "        \n",
            "        The following aliases are available to save typing for interactive users:\n",
            "        \n",
            "        =====   =================\n",
            "        Alias   Property\n",
            "        =====   =================\n",
            "        'lw'    'linewidth'\n",
            "        'ls'    'linestyle'\n",
            "        'c'     'color'\n",
            "        'fc'    'facecolor'\n",
            "        'ec'    'edgecolor'\n",
            "        'mew'   'markeredgewidth'\n",
            "        'aa'    'antialiased'\n",
            "        =====   =================\n",
            "        \n",
            "        Thus you could abbreviate the above rc command as::\n",
            "        \n",
            "              rc('lines', lw=2, c='r')\n",
            "        \n",
            "        Note you can use python's kwargs dictionary facility to store\n",
            "        dictionaries of default parameters.  e.g., you can customize the\n",
            "        font rc as follows::\n",
            "        \n",
            "          font = {'family' : 'monospace',\n",
            "                  'weight' : 'bold',\n",
            "                  'size'   : 'larger'}\n",
            "          rc('font', **font)  # pass in the font dict as kwargs\n",
            "        \n",
            "        This enables you to easily switch between several configurations.  Use\n",
            "        ``matplotlib.style.use('default')`` or :func:`~matplotlib.rcdefaults` to\n",
            "        restore the default rc params after changes.\n",
            "        \n",
            "        Notes\n",
            "        -----\n",
            "        Similar functionality is available by using the normal dict interface, i.e.\n",
            "        ``rcParams.update({\"lines.linewidth\": 2, ...})`` (but ``rcParams.update``\n",
            "        does not support abbreviations or grouping).\n",
            "    \n",
            "    rc_file(fname, *, use_default_template=True)\n",
            "        Update rc params from file.\n",
            "        \n",
            "        Style-blacklisted rc params (defined in\n",
            "        `matplotlib.style.core.STYLE_BLACKLIST`) are not updated.\n",
            "        \n",
            "        Parameters\n",
            "        ----------\n",
            "        fname : str\n",
            "            Name of file parsed for matplotlib settings.\n",
            "        \n",
            "        use_default_template : bool\n",
            "            If True, initialize with default parameters before updating with those\n",
            "            in the given file. If False, the current configuration persists\n",
            "            and only the parameters specified in the file are updated.\n",
            "    \n",
            "    rc_file_defaults()\n",
            "        Restore the rc params from the original rc file loaded by Matplotlib.\n",
            "        \n",
            "        Style-blacklisted rc params (defined in\n",
            "        `matplotlib.style.core.STYLE_BLACKLIST`) are not updated.\n",
            "    \n",
            "    rc_params(fail_on_error=False)\n",
            "        Construct a `RcParams` instance from the default Matplotlib rc file.\n",
            "    \n",
            "    rc_params_from_file(fname, fail_on_error=False, use_default_template=True)\n",
            "        Construct a `RcParams` from file *fname*.\n",
            "        \n",
            "        Parameters\n",
            "        ----------\n",
            "        fname : str or path-like\n",
            "            Name of file parsed for Matplotlib settings.\n",
            "        fail_on_error : bool\n",
            "            If True, raise an error when the parser fails to convert a parameter.\n",
            "        use_default_template : bool\n",
            "            If True, initialize with default parameters before updating with those\n",
            "            in the given file. If False, the configuration class only contains the\n",
            "            parameters specified in the file. (Useful for updating dicts.)\n",
            "    \n",
            "    rcdefaults()\n",
            "        Restore the rc params from Matplotlib's internal default style.\n",
            "        \n",
            "        Style-blacklisted rc params (defined in\n",
            "        `matplotlib.style.core.STYLE_BLACKLIST`) are not updated.\n",
            "        \n",
            "        See Also\n",
            "        --------\n",
            "        rc_file_defaults\n",
            "            Restore the rc params from the rc file originally loaded by Matplotlib.\n",
            "        matplotlib.style.use :\n",
            "            Use a specific style file.  Call ``style.use('default')`` to restore\n",
            "            the default style.\n",
            "    \n",
            "    set_loglevel(level)\n",
            "        Sets the Matplotlib's root logger and root logger handler level, creating\n",
            "        the handler if it does not exist yet.\n",
            "        \n",
            "        Typically, one should call ``set_loglevel(\"info\")`` or\n",
            "        ``set_loglevel(\"debug\")`` to get additional debugging information.\n",
            "        \n",
            "        Parameters\n",
            "        ----------\n",
            "        level : {\"notset\", \"debug\", \"info\", \"warning\", \"error\", \"critical\"}\n",
            "            The log level of the handler.\n",
            "        \n",
            "        Notes\n",
            "        -----\n",
            "        The first time this function is called, an additional handler is attached\n",
            "        to Matplotlib's root handler; this handler is reused every time and this\n",
            "        function simply manipulates the logger and handler's level.\n",
            "    \n",
            "    test(verbosity=None, coverage=False, switch_backend_warn=<deprecated parameter>, recursionlimit=0, **kwargs)\n",
            "        Run the matplotlib test suite.\n",
            "    \n",
            "    tk_window_focus()\n",
            "        [*Deprecated*] Return true if focus maintenance under TkAgg on win32 is on.\n",
            "        \n",
            "        This currently works only for python.exe and IPython.exe.\n",
            "        Both IDLE and Pythonwin.exe fail badly when tk_window_focus is on.\n",
            "        \n",
            "        Notes\n",
            "        -----\n",
            "        .. deprecated:: 3.1\n",
            "    \n",
            "    use(backend, warn=<deprecated parameter>, force=True)\n",
            "        Select the backend used for rendering and GUI integration.\n",
            "        \n",
            "        Parameters\n",
            "        ----------\n",
            "        backend : str\n",
            "            The backend to switch to.  This can either be one of the standard\n",
            "            backend names, which are case-insensitive:\n",
            "        \n",
            "            - interactive backends:\n",
            "              GTK3Agg, GTK3Cairo, MacOSX, nbAgg,\n",
            "              Qt4Agg, Qt4Cairo, Qt5Agg, Qt5Cairo,\n",
            "              TkAgg, TkCairo, WebAgg, WX, WXAgg, WXCairo\n",
            "        \n",
            "            - non-interactive backends:\n",
            "              agg, cairo, pdf, pgf, ps, svg, template\n",
            "        \n",
            "            or a string of the form: ``module://my.module.name``.\n",
            "        \n",
            "        warn : bool, optional, default: False\n",
            "            If True and not *force*, emit a warning if a failure-to-switch\n",
            "            `ImportError` has been suppressed.  This parameter is deprecated.\n",
            "        \n",
            "        force : bool, optional, default: True\n",
            "            If True (the default), raise an `ImportError` if the backend cannot be\n",
            "            set up (either because it fails to import, or because an incompatible\n",
            "            GUI interactive framework is already running); if False, ignore the\n",
            "            failure.\n",
            "        \n",
            "        See Also\n",
            "        --------\n",
            "        :ref:`backends`\n",
            "        matplotlib.get_backend\n",
            "\n",
            "DATA\n",
            "    URL_REGEX = re.compile('^http://|^https://|^ftp://|^file:')\n",
            "    __bibtex__ = '@Article{Hunter:2007,\\n  Author    = {Hunter, J. ...ishe...\n",
            "    defaultParams = {'_internal.classic_mode': [False, <function validate_...\n",
            "    default_test_modules = ['matplotlib.tests', 'mpl_toolkits.tests']\n",
            "    rcParams = RcParams({'_internal.classic_mode': False,\n",
            "         ...nor.widt...\n",
            "    rcParamsDefault = RcParams({'_internal.classic_mode': False,\n",
            "         ...n...\n",
            "    rcParamsOrig = RcParams({'_internal.classic_mode': False,\n",
            "         ...nor....\n",
            "\n",
            "VERSION\n",
            "    3.2.2\n",
            "\n",
            "FILE\n",
            "    /usr/local/lib/python3.7/dist-packages/matplotlib/__init__.py\n",
            "\n",
            "\n"
          ]
        }
      ]
    },
    {
      "cell_type": "code",
      "source": [
        "plt.style.use('default')\n",
        "gdp_australia = data.loc['Australia']\n",
        "gdp_nz= data.loc['New Zealand']\n",
        "\n",
        "plt.plot(years, gdp_australia, 'g--', label= 'Australia')\n",
        "plt.plot(years, gdp_nz, 'o-', label = 'New Zealand')\n",
        "\n",
        "plt.xlabel('Year')\n",
        "plt.ylabel('GDP/capita')\n",
        "plt.legend(loc= 'lower right')"
      ],
      "metadata": {
        "colab": {
          "base_uri": "https://localhost:8080/",
          "height": 466
        },
        "id": "e6KHI-b14hAz",
        "outputId": "266f91ca-1ba5-4a2c-ab40-56bd1ec2d98e"
      },
      "execution_count": null,
      "outputs": [
        {
          "output_type": "execute_result",
          "data": {
            "text/plain": [
              "<matplotlib.legend.Legend at 0x7f7f8320f590>"
            ]
          },
          "metadata": {},
          "execution_count": 57
        },
        {
          "output_type": "display_data",
          "data": {
            "text/plain": [
              "<Figure size 640x480 with 1 Axes>"
            ],
            "image/png": "[encoded data removed]"
          },
          "metadata": {}
        }
      ]
    },
    {
      "cell_type": "code",
      "source": [
        "print(plt.style.available)"
      ],
      "metadata": {
        "colab": {
          "base_uri": "https://localhost:8080/"
        },
        "id": "J9MGt6-e4wEI",
        "outputId": "423e0e94-0862-45cd-a334-4444f25903fd"
      },
      "execution_count": null,
      "outputs": [
        {
          "output_type": "stream",
          "name": "stdout",
          "text": [
            "['Solarize_Light2', '_classic_test_patch', 'bmh', 'classic', 'dark_background', 'fast', 'fivethirtyeight', 'ggplot', 'grayscale', 'seaborn', 'seaborn-bright', 'seaborn-colorblind', 'seaborn-dark', 'seaborn-dark-palette', 'seaborn-darkgrid', 'seaborn-deep', 'seaborn-muted', 'seaborn-notebook', 'seaborn-paper', 'seaborn-pastel', 'seaborn-poster', 'seaborn-talk', 'seaborn-ticks', 'seaborn-white', 'seaborn-whitegrid', 'tableau-colorblind10']\n"
          ]
        }
      ]
    },
    {
      "cell_type": "markdown",
      "source": [
        "###Fancier Plotting and Stats \n",
        "\n",
        "##Creating random distributiosn"
      ],
      "metadata": {
        "id": "ZVxvUl609gYs"
      }
    },
    {
      "cell_type": "code",
      "source": [
        "%matplotlib inline\n",
        "import matplotlib.pyplot as plt\n",
        "\n",
        "import numpy as np\n",
        "randx= np.random.randint(0,1000, size=100)\n",
        "print(randx)"
      ],
      "metadata": {
        "colab": {
          "base_uri": "https://localhost:8080/"
        },
        "id": "lNSetmDu90ut",
        "outputId": "68b4720c-dfca-4484-d929-44f6a08128de"
      },
      "execution_count": null,
      "outputs": [
        {
          "output_type": "stream",
          "name": "stdout",
          "text": [
            "[686 891 241 742 992  40 296 526 882 956  47 770 547 353 235 414 483 706\n",
            "  66 637 776 925 160 632 985 614 289 755 327 251 379 165 229 126 418 931\n",
            " 388 125 469 401 221 651 581 309 955 525 965  58 271 556 532 280 664 177\n",
            " 153 326 689 855  27 485 202 619 314 496 829 448 757 811  83 291 485 250\n",
            " 225 194 685 643 880 628 770 917  69 287 833 493 107 258 999  75 526 848\n",
            " 860 811 774 398 733 524 112 904 208 390]\n"
          ]
        }
      ]
    },
    {
      "cell_type": "code",
      "source": [
        "randy= np.random.randint(0,1000, size=100)"
      ],
      "metadata": {
        "id": "iGlC1Ne_-dKb"
      },
      "execution_count": null,
      "outputs": []
    },
    {
      "cell_type": "code",
      "source": [
        "plt.style.use(\"Solarize_Light2\")\n",
        "plt.scatter(randx,randy)"
      ],
      "metadata": {
        "colab": {
          "base_uri": "https://localhost:8080/",
          "height": 282
        },
        "id": "5PfARBIe-qih",
        "outputId": "dd9a2216-909a-4e6c-ee03-c9764ee33365"
      },
      "execution_count": null,
      "outputs": [
        {
          "output_type": "execute_result",
          "data": {
            "text/plain": [
              "<matplotlib.collections.PathCollection at 0x7f1533ee6d50>"
            ]
          },
          "metadata": {},
          "execution_count": 5
        },
        {
          "output_type": "display_data",
          "data": {
            "text/plain": [
              "<Figure size 432x288 with 1 Axes>"
            ],
            "image/png": "[encoded data removed]"
          },
          "metadata": {}
        }
      ]
    },
    {
      "cell_type": "markdown",
      "source": [
        "setting the same seed generates the same \"random\" numbers\n",
        "\n",
        "calculating corr coef for both data sets"
      ],
      "metadata": {
        "id": "ytIUGuHJ-_xh"
      }
    },
    {
      "cell_type": "code",
      "source": [
        "np.corrcoef(randx,randy)"
      ],
      "metadata": {
        "colab": {
          "base_uri": "https://localhost:8080/"
        },
        "id": "Do2yyyBy_etX",
        "outputId": "76a034a9-861d-487b-fc63-89e0b56b6fe8"
      },
      "execution_count": null,
      "outputs": [
        {
          "output_type": "execute_result",
          "data": {
            "text/plain": [
              "array([[ 1.        , -0.00956197],\n",
              "       [-0.00956197,  1.        ]])"
            ]
          },
          "metadata": {},
          "execution_count": 6
        }
      ]
    },
    {
      "cell_type": "markdown",
      "source": [
        "correlation coeficcient is not the same as r squared...they mean different things...ask colin to clarify later"
      ],
      "metadata": {
        "id": "CNsM65vy_uOx"
      }
    },
    {
      "cell_type": "code",
      "source": [
        "import seaborn as sns\n",
        "import pandas as pd\n",
        "rand_df=pd.DataFrame()\n",
        "rand_df['x']= randx\n",
        "rand_df['y']= randy\n",
        "\n",
        "print(rand_df)\n",
        "\n",
        "plt.scatter('x','y',data=rand_df)\n",
        "sns.regplot('x','y', data=rand_df)\n",
        "sns.lmplot('x','y', data=rand_df)"
      ],
      "metadata": {
        "colab": {
          "base_uri": "https://localhost:8080/",
          "height": 984
        },
        "id": "-T7M_4pA_5ew",
        "outputId": "da7f3274-62c4-4da2-f8be-580aa3fc078d"
      },
      "execution_count": null,
      "outputs": [
        {
          "output_type": "stream",
          "name": "stdout",
          "text": [
            "      x    y\n",
            "0   686  640\n",
            "1   891   55\n",
            "2   241  172\n",
            "3   742  477\n",
            "4   992  230\n",
            "..  ...  ...\n",
            "95  524  957\n",
            "96  112  998\n",
            "97  904  155\n",
            "98  208  392\n",
            "99  390  111\n",
            "\n",
            "[100 rows x 2 columns]\n"
          ]
        },
        {
          "output_type": "stream",
          "name": "stderr",
          "text": [
            "/usr/local/lib/python3.7/dist-packages/seaborn/_decorators.py:43: FutureWarning: Pass the following variables as keyword args: x, y. From version 0.12, the only valid positional argument will be `data`, and passing other arguments without an explicit keyword will result in an error or misinterpretation.\n",
            "  FutureWarning\n",
            "/usr/local/lib/python3.7/dist-packages/seaborn/_decorators.py:43: FutureWarning: Pass the following variables as keyword args: x, y. From version 0.12, the only valid positional argument will be `data`, and passing other arguments without an explicit keyword will result in an error or misinterpretation.\n",
            "  FutureWarning\n"
          ]
        },
        {
          "output_type": "execute_result",
          "data": {
            "text/plain": [
              "<seaborn.axisgrid.FacetGrid at 0x7f15104000d0>"
            ]
          },
          "metadata": {},
          "execution_count": 11
        },
        {
          "output_type": "display_data",
          "data": {
            "text/plain": [
              "<Figure size 432x288 with 1 Axes>"
            ],
            "image/png": "[encoded data removed]"
          },
          "metadata": {}
        },
        {
          "output_type": "display_data",
          "data": {
            "text/plain": [
              "<Figure size 360x360 with 1 Axes>"
            ],
            "image/png": "[encoded data removed]"
          },
          "metadata": {}
        }
      ]
    },
    {
      "cell_type": "code",
      "source": [
        "sns.kdeplot(rand_df.x,rand_df.y)"
      ],
      "metadata": {
        "colab": {
          "base_uri": "https://localhost:8080/",
          "height": 354
        },
        "id": "vS7o5MQKBOWy",
        "outputId": "fb5a5c7d-9a4b-4cf3-f82c-1255341b1e67"
      },
      "execution_count": null,
      "outputs": [
        {
          "output_type": "stream",
          "name": "stderr",
          "text": [
            "/usr/local/lib/python3.7/dist-packages/seaborn/_decorators.py:43: FutureWarning: Pass the following variable as a keyword arg: y. From version 0.12, the only valid positional argument will be `data`, and passing other arguments without an explicit keyword will result in an error or misinterpretation.\n",
            "  FutureWarning\n"
          ]
        },
        {
          "output_type": "execute_result",
          "data": {
            "text/plain": [
              "<matplotlib.axes._subplots.AxesSubplot at 0x7f150da73110>"
            ]
          },
          "metadata": {},
          "execution_count": 12
        },
        {
          "output_type": "display_data",
          "data": {
            "text/plain": [
              "<Figure size 432x288 with 1 Axes>"
            ],
            "image/png": "[encoded data removed]"
          },
          "metadata": {}
        }
      ]
    },
    {
      "cell_type": "code",
      "source": [
        "sns.barplot('x',data=rand_df)"
      ],
      "metadata": {
        "colab": {
          "base_uri": "https://localhost:8080/",
          "height": 354
        },
        "id": "Ei9rsiEABgwC",
        "outputId": "f7eb165e-1624-4d79-a59b-9525e9c20035"
      },
      "execution_count": null,
      "outputs": [
        {
          "output_type": "stream",
          "name": "stderr",
          "text": [
            "/usr/local/lib/python3.7/dist-packages/seaborn/_decorators.py:43: FutureWarning: Pass the following variable as a keyword arg: x. From version 0.12, the only valid positional argument will be `data`, and passing other arguments without an explicit keyword will result in an error or misinterpretation.\n",
            "  FutureWarning\n"
          ]
        },
        {
          "output_type": "execute_result",
          "data": {
            "text/plain": [
              "<matplotlib.axes._subplots.AxesSubplot at 0x7f150d5facd0>"
            ]
          },
          "metadata": {},
          "execution_count": 13
        },
        {
          "output_type": "display_data",
          "data": {
            "text/plain": [
              "<Figure size 432x288 with 1 Axes>"
            ],
            "image/png": "[encoded data removed]"
          },
          "metadata": {}
        }
      ]
    },
    {
      "cell_type": "code",
      "source": [
        "rand_df.describe()"
      ],
      "metadata": {
        "colab": {
          "base_uri": "https://localhost:8080/",
          "height": 300
        },
        "id": "MzWEnalhBwMc",
        "outputId": "6c793afb-646c-4ecd-f78f-43660faedeb0"
      },
      "execution_count": null,
      "outputs": [
        {
          "output_type": "execute_result",
          "data": {
            "text/plain": [
              "               x          y\n",
              "count  100.00000  100.00000\n",
              "mean   498.71000  484.08000\n",
              "std    285.52975  296.78832\n",
              "min     27.00000    3.00000\n",
              "25%    250.75000  218.50000\n",
              "50%    489.00000  452.50000\n",
              "75%    755.50000  729.50000\n",
              "max    999.00000  998.00000"
            ],
            "text/html": [
              "\n",
              "  <div id=\"df-11276b32-ea64-4de6-a53a-472af8912d58\">\n",
              "    <div class=\"colab-df-container\">\n",
              "      <div>\n",
              "<style scoped>\n",
              "    .dataframe tbody tr th:only-of-type {\n",
              "        vertical-align: middle;\n",
              "    }\n",
              "\n",
              "    .dataframe tbody tr th {\n",
              "        vertical-align: top;\n",
              "    }\n",
              "\n",
              "    .dataframe thead th {\n",
              "        text-align: right;\n",
              "    }\n",
              "</style>\n",
              "<table border=\"1\" class=\"dataframe\">\n",
              "  <thead>\n",
              "    <tr style=\"text-align: right;\">\n",
              "      <th></th>\n",
              "      <th>x</th>\n",
              "      <th>y</th>\n",
              "    </tr>\n",
              "  </thead>\n",
              "  <tbody>\n",
              "    <tr>\n",
              "      <th>count</th>\n",
              "      <td>100.00000</td>\n",
              "      <td>100.00000</td>\n",
              "    </tr>\n",
              "    <tr>\n",
              "      <th>mean</th>\n",
              "      <td>498.71000</td>\n",
              "      <td>484.08000</td>\n",
              "    </tr>\n",
              "    <tr>\n",
              "      <th>std</th>\n",
              "      <td>285.52975</td>\n",
              "      <td>296.78832</td>\n",
              "    </tr>\n",
              "    <tr>\n",
              "      <th>min</th>\n",
              "      <td>27.00000</td>\n",
              "      <td>3.00000</td>\n",
              "    </tr>\n",
              "    <tr>\n",
              "      <th>25%</th>\n",
              "      <td>250.75000</td>\n",
              "      <td>218.50000</td>\n",
              "    </tr>\n",
              "    <tr>\n",
              "      <th>50%</th>\n",
              "      <td>489.00000</td>\n",
              "      <td>452.50000</td>\n",
              "    </tr>\n",
              "    <tr>\n",
              "      <th>75%</th>\n",
              "      <td>755.50000</td>\n",
              "      <td>729.50000</td>\n",
              "    </tr>\n",
              "    <tr>\n",
              "      <th>max</th>\n",
              "      <td>999.00000</td>\n",
              "      <td>998.00000</td>\n",
              "    </tr>\n",
              "  </tbody>\n",
              "</table>\n",
              "</div>\n",
              "      <button class=\"colab-df-convert\" onclick=\"convertToInteractive('df-11276b32-ea64-4de6-a53a-472af8912d58')\"\n",
              "              title=\"Convert this dataframe to an interactive table.\"\n",
              "              style=\"display:none;\">\n",
              "        \n",
              "  <svg xmlns=\"http://www.w3.org/2000/svg\" height=\"24px\"viewBox=\"0 0 24 24\"\n",
              "       width=\"24px\">\n",
              "    <path d=\"M0 0h24v24H0V0z\" fill=\"none\"/>\n",
              "    <path d=\"M18.56 5.44l.94 2.06.94-2.06 2.06-.94-2.06-.94-.94-2.06-.94 2.06-2.06.94zm-11 1L8.5 8.5l.94-2.06 2.06-.94-2.06-.94L8.5 2.5l-.94 2.06-2.06.94zm10 10l.94 2.06.94-2.06 2.06-.94-2.06-.94-.94-2.06-.94 2.06-2.06.94z\"/><path d=\"M17.41 7.96l-1.37-1.37c-.4-.4-.92-.59-1.43-.59-.52 0-1.04.2-1.43.59L10.3 9.45l-7.72 7.72c-.78.78-.78 2.05 0 2.83L4 21.41c.39.39.9.59 1.41.59.51 0 1.02-.2 1.41-.59l7.78-7.78 2.81-2.81c.8-.78.8-2.07 0-2.86zM5.41 20L4 18.59l7.72-7.72 1.47 1.35L5.41 20z\"/>\n",
              "  </svg>\n",
              "      </button>\n",
              "      \n",
              "  <style>\n",
              "    .colab-df-container {\n",
              "      display:flex;\n",
              "      flex-wrap:wrap;\n",
              "      gap: 12px;\n",
              "    }\n",
              "\n",
              "    .colab-df-convert {\n",
              "      background-color: #E8F0FE;\n",
              "      border: none;\n",
              "      border-radius: 50%;\n",
              "      cursor: pointer;\n",
              "      display: none;\n",
              "      fill: #1967D2;\n",
              "      height: 32px;\n",
              "      padding: 0 0 0 0;\n",
              "      width: 32px;\n",
              "    }\n",
              "\n",
              "    .colab-df-convert:hover {\n",
              "      background-color: #E2EBFA;\n",
              "      box-shadow: 0px 1px 2px rgba(60, 64, 67, 0.3), 0px 1px 3px 1px rgba(60, 64, 67, 0.15);\n",
              "      fill: #174EA6;\n",
              "    }\n",
              "\n",
              "    [theme=dark] .colab-df-convert {\n",
              "      background-color: #3B4455;\n",
              "      fill: #D2E3FC;\n",
              "    }\n",
              "\n",
              "    [theme=dark] .colab-df-convert:hover {\n",
              "      background-color: #434B5C;\n",
              "      box-shadow: 0px 1px 3px 1px rgba(0, 0, 0, 0.15);\n",
              "      filter: drop-shadow(0px 1px 2px rgba(0, 0, 0, 0.3));\n",
              "      fill: #FFFFFF;\n",
              "    }\n",
              "  </style>\n",
              "\n",
              "      <script>\n",
              "        const buttonEl =\n",
              "          document.querySelector('#df-11276b32-ea64-4de6-a53a-472af8912d58 button.colab-df-convert');\n",
              "        buttonEl.style.display =\n",
              "          google.colab.kernel.accessAllowed ? 'block' : 'none';\n",
              "\n",
              "        async function convertToInteractive(key) {\n",
              "          const element = document.querySelector('#df-11276b32-ea64-4de6-a53a-472af8912d58');\n",
              "          const dataTable =\n",
              "            await google.colab.kernel.invokeFunction('convertToInteractive',\n",
              "                                                     [key], {});\n",
              "          if (!dataTable) return;\n",
              "\n",
              "          const docLinkHtml = 'Like what you see? Visit the ' +\n",
              "            '<a target=\"_blank\" href=https://colab.research.google.com/notebooks/data_table.ipynb>data table notebook</a>'\n",
              "            + ' to learn more about interactive tables.';\n",
              "          element.innerHTML = '';\n",
              "          dataTable['output_type'] = 'display_data';\n",
              "          await google.colab.output.renderOutput(dataTable, element);\n",
              "          const docLink = document.createElement('div');\n",
              "          docLink.innerHTML = docLinkHtml;\n",
              "          element.appendChild(docLink);\n",
              "        }\n",
              "      </script>\n",
              "    </div>\n",
              "  </div>\n",
              "  "
            ]
          },
          "metadata": {},
          "execution_count": 14
        }
      ]
    },
    {
      "cell_type": "code",
      "source": [
        "sns.boxplot(rand_df.x)"
      ],
      "metadata": {
        "colab": {
          "base_uri": "https://localhost:8080/",
          "height": 354
        },
        "id": "1WjQ101lB7M4",
        "outputId": "cee485bf-04ef-4adc-9166-300f404691ff"
      },
      "execution_count": null,
      "outputs": [
        {
          "output_type": "stream",
          "name": "stderr",
          "text": [
            "/usr/local/lib/python3.7/dist-packages/seaborn/_decorators.py:43: FutureWarning: Pass the following variable as a keyword arg: x. From version 0.12, the only valid positional argument will be `data`, and passing other arguments without an explicit keyword will result in an error or misinterpretation.\n",
            "  FutureWarning\n"
          ]
        },
        {
          "output_type": "execute_result",
          "data": {
            "text/plain": [
              "<matplotlib.axes._subplots.AxesSubplot at 0x7f150dae31d0>"
            ]
          },
          "metadata": {},
          "execution_count": 15
        },
        {
          "output_type": "display_data",
          "data": {
            "text/plain": [
              "<Figure size 432x288 with 1 Axes>"
            ],
            "image/png": "[encoded data removed]"
          },
          "metadata": {}
        }
      ]
    },
    {
      "cell_type": "code",
      "source": [
        "sns.violinplot(rand_df.x)"
      ],
      "metadata": {
        "colab": {
          "base_uri": "https://localhost:8080/",
          "height": 354
        },
        "id": "KLZtUITNCP7q",
        "outputId": "26186818-d9c3-421c-b95e-5ef9b4b89271"
      },
      "execution_count": null,
      "outputs": [
        {
          "output_type": "stream",
          "name": "stderr",
          "text": [
            "/usr/local/lib/python3.7/dist-packages/seaborn/_decorators.py:43: FutureWarning: Pass the following variable as a keyword arg: x. From version 0.12, the only valid positional argument will be `data`, and passing other arguments without an explicit keyword will result in an error or misinterpretation.\n",
            "  FutureWarning\n"
          ]
        },
        {
          "output_type": "execute_result",
          "data": {
            "text/plain": [
              "<matplotlib.axes._subplots.AxesSubplot at 0x7f151037f890>"
            ]
          },
          "metadata": {},
          "execution_count": 16
        },
        {
          "output_type": "display_data",
          "data": {
            "text/plain": [
              "<Figure size 432x288 with 1 Axes>"
            ],
            "image/png": "[encoded data removed]"
          },
          "metadata": {}
        }
      ]
    },
    {
      "cell_type": "code",
      "source": [
        "sns.violinplot('y', data=rand_df)"
      ],
      "metadata": {
        "colab": {
          "base_uri": "https://localhost:8080/",
          "height": 354
        },
        "id": "XGvxbv-hCtJJ",
        "outputId": "37f18f84-2933-4f2a-ad8e-22010d1f589b"
      },
      "execution_count": null,
      "outputs": [
        {
          "output_type": "stream",
          "name": "stderr",
          "text": [
            "/usr/local/lib/python3.7/dist-packages/seaborn/_decorators.py:43: FutureWarning: Pass the following variable as a keyword arg: x. From version 0.12, the only valid positional argument will be `data`, and passing other arguments without an explicit keyword will result in an error or misinterpretation.\n",
            "  FutureWarning\n"
          ]
        },
        {
          "output_type": "execute_result",
          "data": {
            "text/plain": [
              "<matplotlib.axes._subplots.AxesSubplot at 0x7f150d50e410>"
            ]
          },
          "metadata": {},
          "execution_count": 17
        },
        {
          "output_type": "display_data",
          "data": {
            "text/plain": [
              "<Figure size 432x288 with 1 Axes>"
            ],
            "image/png": "[encoded data removed]"
          },
          "metadata": {}
        }
      ]
    },
    {
      "cell_type": "code",
      "source": [],
      "metadata": {
        "id": "0p1JO5q9DEqi"
      },
      "execution_count": null,
      "outputs": []
    },
    {
      "cell_type": "markdown",
      "source": [
        "bootstrapping vs jack kniffing\n",
        "\n",
        "These are used to assess effects of outliars. They are meant to approximate the sampling of more indviduals/characters\n",
        "\n",
        "jack kniffing is sampling without approximating, you pick a random subset. You do this process over and over to see if you get similiar results..if you don't your  results are being driven by a confonding influence\n",
        "\n",
        "bootstrapping- you can get the same datapoint more than once, they create alternative distributions from your data. the results will tell you if your outliar affects you actual outliars\n",
        "\n",
        "in phylogency the bootstrap values say that the 'x' permutations support the relationship"
      ],
      "metadata": {
        "id": "RfSKG_7gDFLT"
      }
    },
    {
      "cell_type": "code",
      "source": [
        "!pip install py3Dmol\n",
        "import py3Dmol\n",
        "view = py3Dmol.view(query='pdb:2D2M')\n",
        "view.setStyle({'cartoon':{'color':'spectrum'} })"
      ],
      "metadata": {
        "colab": {
          "base_uri": "https://localhost:8080/",
          "height": 549
        },
        "id": "TXiN9H4hE_CA",
        "outputId": "c3254e9a-f2cb-456d-cded-f28200deb4e1"
      },
      "execution_count": null,
      "outputs": [
        {
          "output_type": "stream",
          "name": "stdout",
          "text": [
            "Looking in indexes: https://pypi.org/simple, https://us-python.pkg.dev/colab-wheels/public/simple/\n",
            "Requirement already satisfied: py3Dmol in /usr/local/lib/python3.7/dist-packages (1.8.1)\n"
          ]
        },
        {
          "output_type": "display_data",
          "data": {
            "application/3dmoljs_load.v0": "<div id=\"3dmolviewer_16632780733009567\"  style=\"position: relative; width: 640px; height: 480px\">\n        <p id=\"3dmolwarning_16632780733009567\" style=\"background-color:#ffcccc;color:black\">You appear to be running in JupyterLab (or JavaScript failed to load for some other reason).  You need to install the 3dmol extension: <br>\n        <tt>jupyter labextension install jupyterlab_3dmol</tt></p>\n        </div>\n<script>\n\nvar loadScriptAsync = function(uri){\n  return new Promise((resolve, reject) => {\n    var tag = document.createElement('script');\n    tag.src = uri;\n    tag.async = true;\n    tag.onload = () => {\n      resolve();\n    };\n  var firstScriptTag = document.getElementsByTagName('script')[0];\n  firstScriptTag.parentNode.insertBefore(tag, firstScriptTag);\n});\n};\n\nif(typeof $3Dmolpromise === 'undefined') {\n$3Dmolpromise = null;\n  $3Dmolpromise = loadScriptAsync('https://cdn.jsdelivr.net/npm/3dmol@latest/build/3Dmol-min.min.js');\n}\n\nvar viewer_16632780733009567 = null;\nvar warn = document.getElementById(\"3dmolwarning_16632780733009567\");\nif(warn) {\n    warn.parentNode.removeChild(warn);\n}\n$3Dmolpromise.then(function() {\nviewer_16632780733009567 = $3Dmol.createViewer($(\"#3dmolviewer_16632780733009567\"),{backgroundColor:\"white\"});\n$3Dmol.download(\"pdb:2D2M\", viewer_16632780733009567, {}, function() {\nviewer_16632780733009567.zoomTo();\n\tviewer_16632780733009567.setStyle({\"cartoon\": {\"color\": \"spectrum\"}});\nviewer_16632780733009567.render();\n})\n});\n</script>",
            "text/html": [
              "<div id=\"3dmolviewer_16632780733009567\"  style=\"position: relative; width: 640px; height: 480px\">\n",
              "        <p id=\"3dmolwarning_16632780733009567\" style=\"background-color:#ffcccc;color:black\">You appear to be running in JupyterLab (or JavaScript failed to load for some other reason).  You need to install the 3dmol extension: <br>\n",
              "        <tt>jupyter labextension install jupyterlab_3dmol</tt></p>\n",
              "        </div>\n",
              "<script>\n",
              "\n",
              "var loadScriptAsync = function(uri){\n",
              "  return new Promise((resolve, reject) => {\n",
              "    var tag = document.createElement('script');\n",
              "    tag.src = uri;\n",
              "    tag.async = true;\n",
              "    tag.onload = () => {\n",
              "      resolve();\n",
              "    };\n",
              "  var firstScriptTag = document.getElementsByTagName('script')[0];\n",
              "  firstScriptTag.parentNode.insertBefore(tag, firstScriptTag);\n",
              "});\n",
              "};\n",
              "\n",
              "if(typeof $3Dmolpromise === 'undefined') {\n",
              "$3Dmolpromise = null;\n",
              "  $3Dmolpromise = loadScriptAsync('https://cdn.jsdelivr.net/npm/3dmol@latest/build/3Dmol-min.min.js');\n",
              "}\n",
              "\n",
              "var viewer_16632780733009567 = null;\n",
              "var warn = document.getElementById(\"3dmolwarning_16632780733009567\");\n",
              "if(warn) {\n",
              "    warn.parentNode.removeChild(warn);\n",
              "}\n",
              "$3Dmolpromise.then(function() {\n",
              "viewer_16632780733009567 = $3Dmol.createViewer($(\"#3dmolviewer_16632780733009567\"),{backgroundColor:\"white\"});\n",
              "$3Dmol.download(\"pdb:2D2M\", viewer_16632780733009567, {}, function() {\n",
              "viewer_16632780733009567.zoomTo();\n",
              "\tviewer_16632780733009567.setStyle({\"cartoon\": {\"color\": \"spectrum\"}});\n",
              "viewer_16632780733009567.render();\n",
              "})\n",
              "});\n",
              "</script>"
            ]
          },
          "metadata": {}
        },
        {
          "output_type": "execute_result",
          "data": {
            "text/plain": [
              "<py3Dmol.view at 0x7f1510f24410>"
            ]
          },
          "metadata": {},
          "execution_count": 19
        }
      ]
    },
    {
      "cell_type": "markdown",
      "source": [
        "##Lists and Loops\n"
      ],
      "metadata": {
        "id": "d0GBDB1itQdU"
      }
    },
    {
      "cell_type": "code",
      "source": [
        "temps = [0.0,32.0, 100, 212, 98.6]"
      ],
      "metadata": {
        "id": "M6yftRm5tSei"
      },
      "execution_count": null,
      "outputs": []
    },
    {
      "cell_type": "code",
      "source": [
        "print('first temperature:', temps[0])\n",
        "print('length:', len(temps))\n"
      ],
      "metadata": {
        "colab": {
          "base_uri": "https://localhost:8080/"
        },
        "id": "wmrRjyaKte9M",
        "outputId": "67150406-3b96-41da-ae4d-13343c089f05"
      },
      "execution_count": null,
      "outputs": [
        {
          "output_type": "stream",
          "name": "stdout",
          "text": [
            "first temperature: 0.0\n",
            "length: 5\n"
          ]
        }
      ]
    },
    {
      "cell_type": "markdown",
      "source": [
        "python begins indexing at 0\n",
        "there are different ways to index. -1 will call the last data point"
      ],
      "metadata": {
        "id": "xuJGZbOttw6f"
      }
    },
    {
      "cell_type": "code",
      "source": [
        "print('first temperature:', temps[0])\n",
        "print('last temperature:', temps[-1])\n",
        "print('middle temperature:', temps[1:4])"
      ],
      "metadata": {
        "colab": {
          "base_uri": "https://localhost:8080/"
        },
        "id": "sBKJ4GJot0j7",
        "outputId": "8d7007a5-7e3d-4456-f4f0-d40875e9dad5"
      },
      "execution_count": null,
      "outputs": [
        {
          "output_type": "stream",
          "name": "stdout",
          "text": [
            "first temperature: 0.0\n",
            "last temperature: 98.6\n",
            "middle temperature: [32.0, 100, 212]\n"
          ]
        }
      ]
    },
    {
      "cell_type": "code",
      "source": [
        "temps[0]=-5\n",
        "print(temps)"
      ],
      "metadata": {
        "colab": {
          "base_uri": "https://localhost:8080/"
        },
        "id": "HBlxg_VauOUG",
        "outputId": "19acbdc3-9e99-4fb2-e093-e7196fa42ebb"
      },
      "execution_count": null,
      "outputs": [
        {
          "output_type": "stream",
          "name": "stdout",
          "text": [
            "[-5, 32.0, 100, 212, 98.6]\n"
          ]
        }
      ]
    },
    {
      "cell_type": "code",
      "source": [
        "temps.append(72)\n",
        "print(temps)"
      ],
      "metadata": {
        "colab": {
          "base_uri": "https://localhost:8080/"
        },
        "id": "a7mGVMH0ucfr",
        "outputId": "efb8f601-2c39-4d7a-c0b0-f07f3ee2356b"
      },
      "execution_count": null,
      "outputs": [
        {
          "output_type": "stream",
          "name": "stdout",
          "text": [
            "[-5, 32.0, 100, 212, 98.6, 72, -45, 75, 1000, 72]\n"
          ]
        }
      ]
    },
    {
      "cell_type": "code",
      "source": [
        "temps2 = [-45,75,1000]"
      ],
      "metadata": {
        "id": "2aBrmgrouiBr"
      },
      "execution_count": null,
      "outputs": []
    },
    {
      "cell_type": "code",
      "source": [
        "temps.extend(temps2)\n",
        "print(temps)"
      ],
      "metadata": {
        "colab": {
          "base_uri": "https://localhost:8080/"
        },
        "id": "hQ5nGEbjvf4m",
        "outputId": "a0701a07-35aa-4c56-f792-997971eb8a9c"
      },
      "execution_count": null,
      "outputs": [
        {
          "output_type": "stream",
          "name": "stdout",
          "text": [
            "[-5, 32.0, 100, 212, 98.6, 72, -45, 75, 1000]\n"
          ]
        }
      ]
    },
    {
      "cell_type": "code",
      "source": [
        "temps.append(98.6)\n",
        "temps.append(212)\n",
        "print(temps)"
      ],
      "metadata": {
        "colab": {
          "base_uri": "https://localhost:8080/"
        },
        "id": "0AeldC5pvxyJ",
        "outputId": "4e233fd7-65c3-41cd-fd31-02c4d6616f19"
      },
      "execution_count": null,
      "outputs": [
        {
          "output_type": "stream",
          "name": "stdout",
          "text": [
            "[-5, 32.0, 100, 212, 98.6, 72, -45, 75, 1000, 72, 98.6, 212]\n"
          ]
        }
      ]
    },
    {
      "cell_type": "code",
      "source": [
        "data = ['large', 25, 'green', 62.5]"
      ],
      "metadata": {
        "id": "oCIU5uobv9Je"
      },
      "execution_count": null,
      "outputs": []
    },
    {
      "cell_type": "code",
      "source": [
        "print(data[0])"
      ],
      "metadata": {
        "colab": {
          "base_uri": "https://localhost:8080/"
        },
        "id": "hbhGmSo7wFun",
        "outputId": "ec8b68ce-7efa-4087-e09f-f6c122571949"
      },
      "execution_count": null,
      "outputs": [
        {
          "output_type": "stream",
          "name": "stdout",
          "text": [
            "large\n"
          ]
        }
      ]
    },
    {
      "cell_type": "code",
      "source": [
        "print(data[0][0:3])\n"
      ],
      "metadata": {
        "colab": {
          "base_uri": "https://localhost:8080/"
        },
        "id": "RirLbUR5wIzr",
        "outputId": "f3375b00-ac4b-4d4e-e8cb-2ef926982aec"
      },
      "execution_count": null,
      "outputs": [
        {
          "output_type": "stream",
          "name": "stdout",
          "text": [
            "lar\n"
          ]
        }
      ]
    },
    {
      "cell_type": "code",
      "source": [
        "print(sorted(temps))"
      ],
      "metadata": {
        "colab": {
          "base_uri": "https://localhost:8080/"
        },
        "id": "UXmnCa6XwZRr",
        "outputId": "c97f904f-b811-4ecc-ef26-a52b77626eda"
      },
      "execution_count": null,
      "outputs": [
        {
          "output_type": "stream",
          "name": "stdout",
          "text": [
            "[-45, -5, 32.0, 72, 72, 75, 98.6, 98.6, 100, 212, 212, 1000]\n"
          ]
        }
      ]
    },
    {
      "cell_type": "code",
      "source": [
        "print(temps)"
      ],
      "metadata": {
        "colab": {
          "base_uri": "https://localhost:8080/"
        },
        "id": "KF0-PFA-wfWE",
        "outputId": "6999290d-c00b-4d2f-b4e7-6efaa83683e9"
      },
      "execution_count": null,
      "outputs": [
        {
          "output_type": "stream",
          "name": "stdout",
          "text": [
            "[-5, 32.0, 100, 212, 98.6, 72, -45, 75, 1000, 72, 98.6, 212]\n"
          ]
        }
      ]
    },
    {
      "cell_type": "code",
      "source": [
        "temps.sort()\n",
        "print(temps)"
      ],
      "metadata": {
        "colab": {
          "base_uri": "https://localhost:8080/"
        },
        "id": "jBm2CsYJwmXb",
        "outputId": "b896af86-bb86-4957-baad-36d603aeae8d"
      },
      "execution_count": null,
      "outputs": [
        {
          "output_type": "stream",
          "name": "stdout",
          "text": [
            "[-45, -5, 32.0, 72, 72, 75, 98.6, 98.6, 100, 212, 212, 1000]\n"
          ]
        }
      ]
    },
    {
      "cell_type": "code",
      "source": [
        "for x in temps:\n",
        "  print(x)"
      ],
      "metadata": {
        "colab": {
          "base_uri": "https://localhost:8080/"
        },
        "id": "z1rVL4SzxHjb",
        "outputId": "323fd575-d183-4a05-bd4f-faabd9617d5d"
      },
      "execution_count": null,
      "outputs": [
        {
          "output_type": "stream",
          "name": "stdout",
          "text": [
            "-45\n",
            "-5\n",
            "32.0\n",
            "72\n",
            "72\n",
            "75\n",
            "98.6\n",
            "98.6\n",
            "100\n",
            "212\n",
            "212\n",
            "1000\n"
          ]
        }
      ]
    },
    {
      "cell_type": "code",
      "source": [
        "magnitude = []\n",
        "for x in [1,2,3,4,5]:\n",
        "  y=x*10\n",
        "  magnitude.append(y)\n",
        "print(magnitude)"
      ],
      "metadata": {
        "colab": {
          "base_uri": "https://localhost:8080/"
        },
        "id": "AO2Nac8tya8B",
        "outputId": "41fae1f3-c1ac-4b9d-deaa-bcb6cdd93205"
      },
      "execution_count": null,
      "outputs": [
        {
          "output_type": "stream",
          "name": "stdout",
          "text": [
            "[10, 20, 30, 40, 50]\n"
          ]
        }
      ]
    },
    {
      "cell_type": "code",
      "source": [
        "import math as m\n",
        "for x in [1,2,3,4,5]:\n",
        "  sq = x**2\n",
        "  cb= x**3\n",
        "  log= m.log(x)\n",
        "print(x,sq,cb,log)"
      ],
      "metadata": {
        "colab": {
          "base_uri": "https://localhost:8080/"
        },
        "id": "U0toMp1IzEdc",
        "outputId": "d1ed72de-494d-44fc-d5e9-f25ccbb27951"
      },
      "execution_count": null,
      "outputs": [
        {
          "output_type": "stream",
          "name": "stdout",
          "text": [
            "5 25 125 1.6094379124341003\n"
          ]
        }
      ]
    },
    {
      "cell_type": "code",
      "source": [
        "ls = []\n",
        "for x in range(10,1000):\n",
        "  ls.append(x*x)\n",
        "print(ls)\n",
        "\n",
        "print(ls[42])"
      ],
      "metadata": {
        "colab": {
          "base_uri": "https://localhost:8080/"
        },
        "id": "ikaLjfStzX2d",
        "outputId": "9cece0c6-c519-40e8-b3bc-e125f32a8351"
      },
      "execution_count": null,
      "outputs": [
        {
          "output_type": "stream",
          "name": "stdout",
          "text": [
            "[100, 121, 144, 169, 196, 225, 256, 289, 324, 361, 400, 441, 484, 529, 576, 625, 676, 729, 784, 841, 900, 961, 1024, 1089, 1156, 1225, 1296, 1369, 1444, 1521, 1600, 1681, 1764, 1849, 1936, 2025, 2116, 2209, 2304, 2401, 2500, 2601, 2704, 2809, 2916, 3025, 3136, 3249, 3364, 3481, 3600, 3721, 3844, 3969, 4096, 4225, 4356, 4489, 4624, 4761, 4900, 5041, 5184, 5329, 5476, 5625, 5776, 5929, 6084, 6241, 6400, 6561, 6724, 6889, 7056, 7225, 7396, 7569, 7744, 7921, 8100, 8281, 8464, 8649, 8836, 9025, 9216, 9409, 9604, 9801, 10000, 10201, 10404, 10609, 10816, 11025, 11236, 11449, 11664, 11881, 12100, 12321, 12544, 12769, 12996, 13225, 13456, 13689, 13924, 14161, 14400, 14641, 14884, 15129, 15376, 15625, 15876, 16129, 16384, 16641, 16900, 17161, 17424, 17689, 17956, 18225, 18496, 18769, 19044, 19321, 19600, 19881, 20164, 20449, 20736, 21025, 21316, 21609, 21904, 22201, 22500, 22801, 23104, 23409, 23716, 24025, 24336, 24649, 24964, 25281, 25600, 25921, 26244, 26569, 26896, 27225, 27556, 27889, 28224, 28561, 28900, 29241, 29584, 29929, 30276, 30625, 30976, 31329, 31684, 32041, 32400, 32761, 33124, 33489, 33856, 34225, 34596, 34969, 35344, 35721, 36100, 36481, 36864, 37249, 37636, 38025, 38416, 38809, 39204, 39601, 40000, 40401, 40804, 41209, 41616, 42025, 42436, 42849, 43264, 43681, 44100, 44521, 44944, 45369, 45796, 46225, 46656, 47089, 47524, 47961, 48400, 48841, 49284, 49729, 50176, 50625, 51076, 51529, 51984, 52441, 52900, 53361, 53824, 54289, 54756, 55225, 55696, 56169, 56644, 57121, 57600, 58081, 58564, 59049, 59536, 60025, 60516, 61009, 61504, 62001, 62500, 63001, 63504, 64009, 64516, 65025, 65536, 66049, 66564, 67081, 67600, 68121, 68644, 69169, 69696, 70225, 70756, 71289, 71824, 72361, 72900, 73441, 73984, 74529, 75076, 75625, 76176, 76729, 77284, 77841, 78400, 78961, 79524, 80089, 80656, 81225, 81796, 82369, 82944, 83521, 84100, 84681, 85264, 85849, 86436, 87025, 87616, 88209, 88804, 89401, 90000, 90601, 91204, 91809, 92416, 93025, 93636, 94249, 94864, 95481, 96100, 96721, 97344, 97969, 98596, 99225, 99856, 100489, 101124, 101761, 102400, 103041, 103684, 104329, 104976, 105625, 106276, 106929, 107584, 108241, 108900, 109561, 110224, 110889, 111556, 112225, 112896, 113569, 114244, 114921, 115600, 116281, 116964, 117649, 118336, 119025, 119716, 120409, 121104, 121801, 122500, 123201, 123904, 124609, 125316, 126025, 126736, 127449, 128164, 128881, 129600, 130321, 131044, 131769, 132496, 133225, 133956, 134689, 135424, 136161, 136900, 137641, 138384, 139129, 139876, 140625, 141376, 142129, 142884, 143641, 144400, 145161, 145924, 146689, 147456, 148225, 148996, 149769, 150544, 151321, 152100, 152881, 153664, 154449, 155236, 156025, 156816, 157609, 158404, 159201, 160000, 160801, 161604, 162409, 163216, 164025, 164836, 165649, 166464, 167281, 168100, 168921, 169744, 170569, 171396, 172225, 173056, 173889, 174724, 175561, 176400, 177241, 178084, 178929, 179776, 180625, 181476, 182329, 183184, 184041, 184900, 185761, 186624, 187489, 188356, 189225, 190096, 190969, 191844, 192721, 193600, 194481, 195364, 196249, 197136, 198025, 198916, 199809, 200704, 201601, 202500, 203401, 204304, 205209, 206116, 207025, 207936, 208849, 209764, 210681, 211600, 212521, 213444, 214369, 215296, 216225, 217156, 218089, 219024, 219961, 220900, 221841, 222784, 223729, 224676, 225625, 226576, 227529, 228484, 229441, 230400, 231361, 232324, 233289, 234256, 235225, 236196, 237169, 238144, 239121, 240100, 241081, 242064, 243049, 244036, 245025, 246016, 247009, 248004, 249001, 250000, 251001, 252004, 253009, 254016, 255025, 256036, 257049, 258064, 259081, 260100, 261121, 262144, 263169, 264196, 265225, 266256, 267289, 268324, 269361, 270400, 271441, 272484, 273529, 274576, 275625, 276676, 277729, 278784, 279841, 280900, 281961, 283024, 284089, 285156, 286225, 287296, 288369, 289444, 290521, 291600, 292681, 293764, 294849, 295936, 297025, 298116, 299209, 300304, 301401, 302500, 303601, 304704, 305809, 306916, 308025, 309136, 310249, 311364, 312481, 313600, 314721, 315844, 316969, 318096, 319225, 320356, 321489, 322624, 323761, 324900, 326041, 327184, 328329, 329476, 330625, 331776, 332929, 334084, 335241, 336400, 337561, 338724, 339889, 341056, 342225, 343396, 344569, 345744, 346921, 348100, 349281, 350464, 351649, 352836, 354025, 355216, 356409, 357604, 358801, 360000, 361201, 362404, 363609, 364816, 366025, 367236, 368449, 369664, 370881, 372100, 373321, 374544, 375769, 376996, 378225, 379456, 380689, 381924, 383161, 384400, 385641, 386884, 388129, 389376, 390625, 391876, 393129, 394384, 395641, 396900, 398161, 399424, 400689, 401956, 403225, 404496, 405769, 407044, 408321, 409600, 410881, 412164, 413449, 414736, 416025, 417316, 418609, 419904, 421201, 422500, 423801, 425104, 426409, 427716, 429025, 430336, 431649, 432964, 434281, 435600, 436921, 438244, 439569, 440896, 442225, 443556, 444889, 446224, 447561, 448900, 450241, 451584, 452929, 454276, 455625, 456976, 458329, 459684, 461041, 462400, 463761, 465124, 466489, 467856, 469225, 470596, 471969, 473344, 474721, 476100, 477481, 478864, 480249, 481636, 483025, 484416, 485809, 487204, 488601, 490000, 491401, 492804, 494209, 495616, 497025, 498436, 499849, 501264, 502681, 504100, 505521, 506944, 508369, 509796, 511225, 512656, 514089, 515524, 516961, 518400, 519841, 521284, 522729, 524176, 525625, 527076, 528529, 529984, 531441, 532900, 534361, 535824, 537289, 538756, 540225, 541696, 543169, 544644, 546121, 547600, 549081, 550564, 552049, 553536, 555025, 556516, 558009, 559504, 561001, 562500, 564001, 565504, 567009, 568516, 570025, 571536, 573049, 574564, 576081, 577600, 579121, 580644, 582169, 583696, 585225, 586756, 588289, 589824, 591361, 592900, 594441, 595984, 597529, 599076, 600625, 602176, 603729, 605284, 606841, 608400, 609961, 611524, 613089, 614656, 616225, 617796, 619369, 620944, 622521, 624100, 625681, 627264, 628849, 630436, 632025, 633616, 635209, 636804, 638401, 640000, 641601, 643204, 644809, 646416, 648025, 649636, 651249, 652864, 654481, 656100, 657721, 659344, 660969, 662596, 664225, 665856, 667489, 669124, 670761, 672400, 674041, 675684, 677329, 678976, 680625, 682276, 683929, 685584, 687241, 688900, 690561, 692224, 693889, 695556, 697225, 698896, 700569, 702244, 703921, 705600, 707281, 708964, 710649, 712336, 714025, 715716, 717409, 719104, 720801, 722500, 724201, 725904, 727609, 729316, 731025, 732736, 734449, 736164, 737881, 739600, 741321, 743044, 744769, 746496, 748225, 749956, 751689, 753424, 755161, 756900, 758641, 760384, 762129, 763876, 765625, 767376, 769129, 770884, 772641, 774400, 776161, 777924, 779689, 781456, 783225, 784996, 786769, 788544, 790321, 792100, 793881, 795664, 797449, 799236, 801025, 802816, 804609, 806404, 808201, 810000, 811801, 813604, 815409, 817216, 819025, 820836, 822649, 824464, 826281, 828100, 829921, 831744, 833569, 835396, 837225, 839056, 840889, 842724, 844561, 846400, 848241, 850084, 851929, 853776, 855625, 857476, 859329, 861184, 863041, 864900, 866761, 868624, 870489, 872356, 874225, 876096, 877969, 879844, 881721, 883600, 885481, 887364, 889249, 891136, 893025, 894916, 896809, 898704, 900601, 902500, 904401, 906304, 908209, 910116, 912025, 913936, 915849, 917764, 919681, 921600, 923521, 925444, 927369, 929296, 931225, 933156, 935089, 937024, 938961, 940900, 942841, 944784, 946729, 948676, 950625, 952576, 954529, 956484, 958441, 960400, 962361, 964324, 966289, 968256, 970225, 972196, 974169, 976144, 978121, 980100, 982081, 984064, 986049, 988036, 990025, 992016, 994009, 996004, 998001]\n",
            "2704\n"
          ]
        }
      ]
    },
    {
      "cell_type": "code",
      "source": [],
      "metadata": {
        "id": "pQkG3FImz7Mq"
      },
      "execution_count": null,
      "outputs": []
    },
    {
      "cell_type": "markdown",
      "source": [
        "## if then: conditionals\n"
      ],
      "metadata": {
        "id": "qHAlkvEcz8gT"
      }
    },
    {
      "cell_type": "code",
      "source": [
        "temp=200\n",
        "if temp <200:\n",
        "  print('TOO COLD')\n",
        "elif temp >200:\n",
        "  print('TOO HOT')\n",
        "else: \n",
        "  print('JUST RIGHT')"
      ],
      "metadata": {
        "colab": {
          "base_uri": "https://localhost:8080/"
        },
        "id": "tDXc3mZGz_XC",
        "outputId": "126c2e9d-a336-47f8-a89f-955f81c13a24"
      },
      "execution_count": null,
      "outputs": [
        {
          "output_type": "stream",
          "name": "stdout",
          "text": [
            "JUST RIGHT\n"
          ]
        }
      ]
    },
    {
      "cell_type": "code",
      "source": [
        "print(temps)"
      ],
      "metadata": {
        "colab": {
          "base_uri": "https://localhost:8080/"
        },
        "id": "87vvxHyU0ZiR",
        "outputId": "2273253d-3910-44b7-f582-29a8ae2410cc"
      },
      "execution_count": null,
      "outputs": [
        {
          "output_type": "stream",
          "name": "stdout",
          "text": [
            "[-45, -5, 32.0, 72, 72, 75, 98.6, 98.6, 100, 212, 212, 1000]\n"
          ]
        }
      ]
    },
    {
      "cell_type": "code",
      "source": [
        "for temp in temps:\n",
        "  if temp < 98.6:\n",
        "     print('TOO COLD')\n",
        "  elif temp >98.6:\n",
        "    print('TOO HOT')\n",
        "  else: \n",
        "    print('JUST RIGHT')"
      ],
      "metadata": {
        "colab": {
          "base_uri": "https://localhost:8080/"
        },
        "id": "jcKE1iUa0eNV",
        "outputId": "af3a6bd0-8f2c-453b-db5c-44105ffcd188"
      },
      "execution_count": null,
      "outputs": [
        {
          "output_type": "stream",
          "name": "stdout",
          "text": [
            "TOO COLD\n",
            "TOO COLD\n",
            "TOO COLD\n",
            "TOO COLD\n",
            "TOO COLD\n",
            "TOO COLD\n",
            "JUST RIGHT\n",
            "JUST RIGHT\n",
            "TOO HOT\n",
            "TOO HOT\n",
            "TOO HOT\n",
            "TOO HOT\n"
          ]
        }
      ]
    },
    {
      "cell_type": "code",
      "source": [
        "for temp in temps:\n",
        "  if temp < 98.6 or temp >100:\n",
        "     print('NOT RIGHT')\n",
        "  else: \n",
        "    print('JUST RIGHT')"
      ],
      "metadata": {
        "colab": {
          "base_uri": "https://localhost:8080/"
        },
        "id": "q2ue_8zh1L6P",
        "outputId": "e1cdb92e-8c45-4b6a-f255-ebbdd8804851"
      },
      "execution_count": null,
      "outputs": [
        {
          "output_type": "stream",
          "name": "stdout",
          "text": [
            "NOT RIGHT\n",
            "NOT RIGHT\n",
            "NOT RIGHT\n",
            "NOT RIGHT\n",
            "NOT RIGHT\n",
            "NOT RIGHT\n",
            "JUST RIGHT\n",
            "JUST RIGHT\n",
            "JUST RIGHT\n",
            "NOT RIGHT\n",
            "NOT RIGHT\n",
            "NOT RIGHT\n"
          ]
        }
      ]
    },
    {
      "cell_type": "code",
      "source": [
        "dummy= 1\n",
        "while dummy <= 10:\n",
        "  print(dummy)\n",
        "  dummy+=1"
      ],
      "metadata": {
        "colab": {
          "base_uri": "https://localhost:8080/"
        },
        "id": "tGsl2M2j1oFB",
        "outputId": "25e91d49-73c9-4772-8167-8825eefaa6ce"
      },
      "execution_count": null,
      "outputs": [
        {
          "output_type": "stream",
          "name": "stdout",
          "text": [
            "1\n",
            "2\n",
            "3\n",
            "4\n",
            "5\n",
            "6\n",
            "7\n",
            "8\n",
            "9\n",
            "10\n"
          ]
        }
      ]
    },
    {
      "cell_type": "markdown",
      "source": [
        "### Looping over datasets\n"
      ],
      "metadata": {
        "id": "Br4NnUDg2EUR"
      }
    },
    {
      "cell_type": "code",
      "source": [
        "!curl -L -o PracCompPyData.zip http://bit.ly/PracCompPyData\n",
        "!unzip PracCompPyData.zip"
      ],
      "metadata": {
        "colab": {
          "base_uri": "https://localhost:8080/"
        },
        "id": "s3hhNd2_2eAm",
        "outputId": "07d65913-935d-4223-f67d-29156f993ccf"
      },
      "execution_count": null,
      "outputs": [
        {
          "output_type": "stream",
          "name": "stdout",
          "text": [
            "  % Total    % Received % Xferd  Average Speed   Time    Time     Time  Current\n",
            "                                 Dload  Upload   Total   Spent    Left  Speed\n",
            "100   137  100   137    0     0   4566      0 --:--:-- --:--:-- --:--:--  4566\n",
            "100   116    0   116    0     0    311      0 --:--:-- --:--:-- --:--:--     0\n",
            "100   340  100   340    0     0    530      0 --:--:-- --:--:-- --:--:--   530\n",
            "100   534    0   534    0     0    537      0 --:--:-- --:--:-- --:--:--   537\n",
            "100 38179  100 38179    0     0  34488      0  0:00:01  0:00:01 --:--:-- 34488\n",
            "Archive:  PracCompPyData.zip\n",
            "  inflating: data/gapminder_all.csv  \n",
            "  inflating: data/gapminder_gdp_africa.csv  \n",
            "  inflating: data/gapminder_gdp_americas.csv  \n",
            "  inflating: data/gapminder_gdp_asia.csv  \n",
            "  inflating: data/gapminder_gdp_europe.csv  \n",
            "  inflating: data/gapminder_gdp_oceania.csv  \n"
          ]
        }
      ]
    },
    {
      "cell_type": "code",
      "source": [
        "import pandas as pd\n",
        "for FileName in ['data/gapminder_gdp_americas.csv', 'data/gapminder_gdp_asia.csv']:\n",
        "  data = pd.read_csv(FileName, index_col = 'country')\n",
        "\n",
        "  print(FileName, data.min())"
      ],
      "metadata": {
        "colab": {
          "base_uri": "https://localhost:8080/"
        },
        "id": "YxnfMpnw2H3m",
        "outputId": "9fe3a1b1-d917-4285-f8c1-d1670337a2b5"
      },
      "execution_count": null,
      "outputs": [
        {
          "output_type": "stream",
          "name": "stdout",
          "text": [
            "data/gapminder_gdp_americas.csv continent            Americas\n",
            "gdpPercap_1952    1397.717137\n",
            "gdpPercap_1957    1544.402995\n",
            "gdpPercap_1962    1662.137359\n",
            "gdpPercap_1967    1452.057666\n",
            "gdpPercap_1972    1654.456946\n",
            "gdpPercap_1977    1874.298931\n",
            "gdpPercap_1982    2011.159549\n",
            "gdpPercap_1987    1823.015995\n",
            "gdpPercap_1992    1456.309517\n",
            "gdpPercap_1997    1341.726931\n",
            "gdpPercap_2002    1270.364932\n",
            "gdpPercap_2007    1201.637154\n",
            "dtype: object\n",
            "data/gapminder_gdp_asia.csv gdpPercap_1952    331.0\n",
            "gdpPercap_1957    350.0\n",
            "gdpPercap_1962    388.0\n",
            "gdpPercap_1967    349.0\n",
            "gdpPercap_1972    357.0\n",
            "gdpPercap_1977    371.0\n",
            "gdpPercap_1982    424.0\n",
            "gdpPercap_1987    385.0\n",
            "gdpPercap_1992    347.0\n",
            "gdpPercap_1997    415.0\n",
            "gdpPercap_2002    611.0\n",
            "gdpPercap_2007    944.0\n",
            "dtype: float64\n"
          ]
        }
      ]
    },
    {
      "cell_type": "code",
      "source": [
        "import glob\n",
        "print('all csv files:', glob.glob('data/gapminder_*.csv'))"
      ],
      "metadata": {
        "colab": {
          "base_uri": "https://localhost:8080/"
        },
        "id": "tl3Rg2Ug3amL",
        "outputId": "d561c2a2-9443-4329-ea52-ac994088e187"
      },
      "execution_count": null,
      "outputs": [
        {
          "output_type": "stream",
          "name": "stdout",
          "text": [
            "all csv files: ['data/gapminder_gdp_europe.csv', 'data/gapminder_gdp_americas.csv', 'data/gapminder_gdp_oceania.csv', 'data/gapminder_gdp_africa.csv', 'data/gapminder_gdp_asia.csv', 'data/gapminder_all.csv']\n"
          ]
        }
      ]
    },
    {
      "cell_type": "code",
      "source": [
        "for FileName in glob.glob('data/gapminder_gdp*.csv'):\n",
        "  data= pd.read_csv(FileName)\n",
        "  print(FileName, 'GDP_1977_Minimum', data['gdpPercap_1977'].min())"
      ],
      "metadata": {
        "colab": {
          "base_uri": "https://localhost:8080/"
        },
        "id": "rbgK7tX-3-6L",
        "outputId": "7e8dc5a3-7461-405b-fd5a-aa2658f85b19"
      },
      "execution_count": null,
      "outputs": [
        {
          "output_type": "stream",
          "name": "stdout",
          "text": [
            "data/gapminder_gdp_europe.csv GDP_1977_Minimum 3528.481305\n",
            "data/gapminder_gdp_americas.csv GDP_1977_Minimum 1874.298931\n",
            "data/gapminder_gdp_oceania.csv GDP_1977_Minimum 16233.7177\n",
            "data/gapminder_gdp_africa.csv GDP_1977_Minimum 502.3197334\n",
            "data/gapminder_gdp_asia.csv GDP_1977_Minimum 371.0\n"
          ]
        }
      ]
    },
    {
      "cell_type": "code",
      "source": [
        "for FileName in glob.glob('data/gapminder_gdp*.csv'):\n",
        "  data= pd.read_csv(FileName)\n",
        "  print(FileName, 'GDP_2007_Minimum', data['gdpPercap_2007'].min())"
      ],
      "metadata": {
        "colab": {
          "base_uri": "https://localhost:8080/"
        },
        "id": "__Wgo9G44qQh",
        "outputId": "df30d179-219f-4838-b05c-4863151e3601"
      },
      "execution_count": null,
      "outputs": [
        {
          "output_type": "stream",
          "name": "stdout",
          "text": [
            "data/gapminder_gdp_europe.csv GDP_2007_Minimum 5937.029526\n",
            "data/gapminder_gdp_americas.csv GDP_2007_Minimum 1201.637154\n",
            "data/gapminder_gdp_oceania.csv GDP_2007_Minimum 25185.00911\n",
            "data/gapminder_gdp_africa.csv GDP_2007_Minimum 277.5518587\n",
            "data/gapminder_gdp_asia.csv GDP_2007_Minimum 944.0\n"
          ]
        }
      ]
    },
    {
      "cell_type": "markdown",
      "source": [
        "##Functions"
      ],
      "metadata": {
        "id": "_I8VKApp5BQ7"
      }
    },
    {
      "cell_type": "code",
      "source": [
        "InitCtemp = 100\n",
        "Ftemp=(9/5)*float(InitCtemp)+32\n",
        "print(Ftemp)"
      ],
      "metadata": {
        "colab": {
          "base_uri": "https://localhost:8080/"
        },
        "id": "6TyqAtl-5Dvb",
        "outputId": "ab491f08-8a5e-435d-93bb-270153741481"
      },
      "execution_count": null,
      "outputs": [
        {
          "output_type": "stream",
          "name": "stdout",
          "text": [
            "212.0\n"
          ]
        }
      ]
    },
    {
      "cell_type": "code",
      "source": [
        "def temp_cov(temp,scale):\n",
        "  if scale == 'C' or scale.upper()=='CELSIUS':\n",
        "    #print(str(temp)+ 'C ='+str((9/5)*float(temp)+32)+'F')\n",
        "    return(str((9/5)*float(temp)+32))\n",
        "  elif scale == 'F' or scale.upper== 'FARENHEIT':\n",
        "    return(str(temp)+ 'F'+str((5/9)*float(temp)-32)+ 'C')\n",
        "  else:\n",
        "    print('you made a mistake')"
      ],
      "metadata": {
        "id": "bArVfCgV5WNc"
      },
      "execution_count": null,
      "outputs": []
    },
    {
      "cell_type": "code",
      "source": [
        "temp_cov(100, 'C')\n",
        "temp_cov(100, 'f')\n",
        "temp_cov(100, 'farenheit')"
      ],
      "metadata": {
        "colab": {
          "base_uri": "https://localhost:8080/"
        },
        "id": "vMq0rAeD6GEt",
        "outputId": "78d5b301-bd18-45fa-9f21-f167e04efd84"
      },
      "execution_count": null,
      "outputs": [
        {
          "output_type": "stream",
          "name": "stdout",
          "text": [
            "100C =212.0F\n",
            "you made a mistake\n",
            "you made a mistake\n"
          ]
        }
      ]
    },
    {
      "cell_type": "code",
      "source": [
        "new_temps=[]\n",
        "for x in temps:\n",
        "  y=str(temp_cov(x, 'F'))\n",
        "  new_temps.append(y)"
      ],
      "metadata": {
        "id": "wInU1vUW77L8"
      },
      "execution_count": null,
      "outputs": []
    },
    {
      "cell_type": "code",
      "source": [
        "print(new_temps)"
      ],
      "metadata": {
        "colab": {
          "base_uri": "https://localhost:8080/"
        },
        "id": "ME0Bo-cM9KEp",
        "outputId": "75e4b158-ff35-4d38-e160-7fb02000631d"
      },
      "execution_count": null,
      "outputs": [
        {
          "output_type": "stream",
          "name": "stdout",
          "text": [
            "['-45F-57.0C', '-5F-34.77777777777778C', '32.0F-14.222222222222221C', '72F8.0C', '72F8.0C', '75F9.666666666666671C', '98.6F22.77777777777778C', '98.6F22.77777777777778C', '100F23.555555555555557C', '212F85.77777777777779C', '212F85.77777777777779C', '1000F523.5555555555555C']\n"
          ]
        }
      ]
    }
  ]
}